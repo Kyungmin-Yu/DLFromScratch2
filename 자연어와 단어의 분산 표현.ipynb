{
 "cells": [
  {
   "cell_type": "code",
   "execution_count": 1,
   "id": "c8cb0aa0",
   "metadata": {
    "ExecuteTime": {
     "end_time": "2023-07-05T15:52:38.008836Z",
     "start_time": "2023-07-05T15:52:37.993802Z"
    }
   },
   "outputs": [],
   "source": [
    "import os\n",
    "os.chdir('DLFromScratch2')"
   ]
  },
  {
   "cell_type": "markdown",
   "id": "b64fc105",
   "metadata": {},
   "source": [
    "# 1. 자연어 처리란\n"
   ]
  },
  {
   "cell_type": "markdown",
   "id": "cc179056",
   "metadata": {},
   "source": [
    "## 1.1. 단어의 의미\n",
    "\n",
    "단어의 의미를 잘 파악하는 표현 방법\n",
    "- 시소러스를 활용한 방법\n",
    "- 통계 기반 방법\n",
    "- 추론 기반 방법 (word2vec)"
   ]
  },
  {
   "cell_type": "markdown",
   "id": "f5fb4859",
   "metadata": {},
   "source": [
    "# 2. 시소러스"
   ]
  },
  {
   "cell_type": "markdown",
   "id": "e0dc4eed",
   "metadata": {},
   "source": [
    "시소러스: 단어에 대한 유의어 집합을 만든 다음, 단어들의 관계를 그래프로 표현해 단어 사이의 연결을 정의"
   ]
  },
  {
   "cell_type": "markdown",
   "id": "c524da59",
   "metadata": {},
   "source": [
    "## 2.1. WordNet\n",
    "- 가장 전통있는 시소러스\n",
    "- 유의어를 얻거나 단어 네트워크 이용할 수 있음"
   ]
  },
  {
   "cell_type": "markdown",
   "id": "f3ecd184",
   "metadata": {},
   "source": [
    "## 2.2. 시소러스의 문제점\n",
    "- 시대 변화에 대응하기 어려움: 새로운 단어, 혹은 의미가 변하는 단어 대응 불가\n",
    "- 사람을 쓰는 비용: 시소러스를 만드는데 들어가는 인적 비용 \n",
    "- 단어의 미묘한 차이 표현 못함"
   ]
  },
  {
   "cell_type": "markdown",
   "id": "2964035f",
   "metadata": {},
   "source": [
    "# 3. 통계 기반 기법\n",
    "\n",
    "말뭉치(corpus)\n",
    "- 대량의 텍스트 데이터\n",
    "- 자연어 처리 연구를 염두에 두고 수집된 텍스트 데이터\n",
    "- 통계 기반 기법의 목표는 사람의 지식으로 가득한 말뭉치에서 자동으로, 효율적으로 핵심을 추출하는 것\n"
   ]
  },
  {
   "cell_type": "markdown",
   "id": "e142c420",
   "metadata": {},
   "source": [
    "## 3.1. 파이썬에서 말뭉치 전처리"
   ]
  },
  {
   "cell_type": "code",
   "execution_count": 1,
   "id": "fd5c92e6",
   "metadata": {},
   "outputs": [
    {
     "data": {
      "text/plain": [
       "'you say goodbye and i say hello,'"
      ]
     },
     "execution_count": 1,
     "metadata": {},
     "output_type": "execute_result"
    }
   ],
   "source": [
    "text = 'You say goodbye and I say hello.'\n",
    "text = text.lower()\n",
    "text = text.replace('.', ',')\n",
    "text"
   ]
  },
  {
   "cell_type": "code",
   "execution_count": 2,
   "id": "ffc2070b",
   "metadata": {},
   "outputs": [
    {
     "data": {
      "text/plain": [
       "['you', 'say', 'goodbye', 'and', 'i', 'say', 'hello,']"
      ]
     },
     "execution_count": 2,
     "metadata": {},
     "output_type": "execute_result"
    }
   ],
   "source": [
    "words = text.split(' ')\n",
    "words"
   ]
  },
  {
   "cell_type": "code",
   "execution_count": 3,
   "id": "df2e6ba0",
   "metadata": {},
   "outputs": [],
   "source": [
    "# 단어에 id 부여, 딕셔너리를 통해 id와 단어를 짝지어주는 대응표 작성\n",
    "word_to_id = {}\n",
    "id_to_word = {}\n",
    "\n",
    "for word in words:\n",
    "    if word not in word_to_id:\n",
    "        new_id = len(word_to_id)\n",
    "        word_to_id[word] = new_id\n",
    "        id_to_word[new_id] = word"
   ]
  },
  {
   "cell_type": "code",
   "execution_count": 4,
   "id": "f6750b29",
   "metadata": {},
   "outputs": [
    {
     "name": "stdout",
     "output_type": "stream",
     "text": [
      "{0: 'you', 1: 'say', 2: 'goodbye', 3: 'and', 4: 'i', 5: 'hello,'}\n",
      "{'you': 0, 'say': 1, 'goodbye': 2, 'and': 3, 'i': 4, 'hello,': 5}\n"
     ]
    }
   ],
   "source": [
    "print(id_to_word)\n",
    "print(word_to_id)"
   ]
  },
  {
   "cell_type": "code",
   "execution_count": 5,
   "id": "b7bc494b",
   "metadata": {},
   "outputs": [
    {
     "data": {
      "text/plain": [
       "array([0, 1, 2, 3, 4, 1, 5])"
      ]
     },
     "execution_count": 5,
     "metadata": {},
     "output_type": "execute_result"
    }
   ],
   "source": [
    "import numpy as np\n",
    "corpus = [word_to_id[w] for w in words]\n",
    "corpus = np.array(corpus)\n",
    "corpus"
   ]
  },
  {
   "cell_type": "code",
   "execution_count": 8,
   "id": "ceb01d53",
   "metadata": {},
   "outputs": [],
   "source": [
    "def preprocess(text):\n",
    "    text = text.lower()\n",
    "    text = text.replace('.', ',')\n",
    "    words = text.split(' ')\n",
    "    word_to_id = {}\n",
    "    id_to_word = {}\n",
    "\n",
    "    for word in words:\n",
    "        if word not in word_to_id:\n",
    "            new_id = len(word_to_id)\n",
    "            word_to_id[word] = new_id\n",
    "            id_to_word[new_id] = word\n",
    "    corpus = np.array([word_to_id[w] for w in words])\n",
    "    \n",
    "    return corpus, word_to_id, id_to_word"
   ]
  },
  {
   "cell_type": "code",
   "execution_count": 26,
   "id": "bba37186",
   "metadata": {},
   "outputs": [],
   "source": [
    "text = 'You say goodbye and I say hello.'\n",
    "corpus, word_to_id, id_to_word = preprocess(text)"
   ]
  },
  {
   "cell_type": "code",
   "execution_count": 28,
   "id": "bb8ab890",
   "metadata": {},
   "outputs": [
    {
     "data": {
      "text/plain": [
       "{0: 'you', 1: 'say', 2: 'goodbye', 3: 'and', 4: 'i', 5: 'hello,'}"
      ]
     },
     "execution_count": 28,
     "metadata": {},
     "output_type": "execute_result"
    }
   ],
   "source": [
    "id_to_word"
   ]
  },
  {
   "cell_type": "markdown",
   "id": "4f318d44",
   "metadata": {},
   "source": [
    "## 3.2. 단어의 분산 표현\n",
    "- 단어의 의미를 정확하게 파악할 수 있는 벡터표현"
   ]
  },
  {
   "cell_type": "markdown",
   "id": "953da6eb",
   "metadata": {},
   "source": [
    "## 3.3. 분포 가설\n",
    "- 단어의 의미는 주변 단어에 의해 형성된다"
   ]
  },
  {
   "cell_type": "markdown",
   "id": "98f70f7a",
   "metadata": {},
   "source": [
    "## 3.4. 동시발생 행렬\n",
    "- 어떤 단어에 주목했을 때, 그 주변에 어떤 단어가 몇 번이나 등장하는지 세어 집계"
   ]
  },
  {
   "cell_type": "code",
   "execution_count": 30,
   "id": "6e4acdea",
   "metadata": {},
   "outputs": [],
   "source": [
    "from common.util import preprocess"
   ]
  },
  {
   "cell_type": "code",
   "execution_count": 31,
   "id": "b7458c9f",
   "metadata": {},
   "outputs": [],
   "source": [
    "text = 'You say goodbye and I say hello.'\n",
    "corpus, word_to_id, id_to_word = preprocess(text)"
   ]
  },
  {
   "cell_type": "code",
   "execution_count": 34,
   "id": "471c4bb7",
   "metadata": {},
   "outputs": [],
   "source": [
    "def create_co_matrix(corpus, vocab_size, window_size = 1):\n",
    "    corpus_size = len(corpus)\n",
    "    co_matrix = np.zeros((vocab_size, vocab_size), dtype = np.int32)\n",
    "    \n",
    "    for idx, word_id in enumerate(corpus):\n",
    "        for i in range(1, window_size +1):\n",
    "            left_idx = idx - i\n",
    "            right_idx = idx + i\n",
    "            \n",
    "            if left_idx >=0:\n",
    "                left_word_id = corpus[left_idx]\n",
    "                co_matrix[word_id, left_word_id] +=1\n",
    "                \n",
    "            if right_idx < corpus_size:\n",
    "                right_word_id = corpus[right_idx]\n",
    "                co_matrix[word_id, right_word_id]+=1\n",
    "    return co_matrix"
   ]
  },
  {
   "cell_type": "code",
   "execution_count": 35,
   "id": "4ee24b04",
   "metadata": {},
   "outputs": [],
   "source": [
    "C = create_co_matrix(corpus, len(corpus))"
   ]
  },
  {
   "cell_type": "markdown",
   "id": "3da81717",
   "metadata": {},
   "source": [
    "## 3.5. 벡터 간 유사도"
   ]
  },
  {
   "cell_type": "code",
   "execution_count": 37,
   "id": "dbc9c1ec",
   "metadata": {},
   "outputs": [],
   "source": [
    "def cos_similarity(x,y):\n",
    "    nx = x / np.sqrt(np.sum(x**2) + eps) # eps = 1e-8, 0 벡터 왔을 때 분모 0 되는 문제 해결 위해 더함\n",
    "    ny = y / np.sqrt(np.sum(y**2))\n",
    "    return np.dot(nx, ny)"
   ]
  },
  {
   "cell_type": "code",
   "execution_count": 39,
   "id": "f89abbb0",
   "metadata": {},
   "outputs": [
    {
     "name": "stdout",
     "output_type": "stream",
     "text": [
      "0.7071067811865475\n"
     ]
    }
   ],
   "source": [
    "c0 = C[word_to_id['you']]\n",
    "c1 = C[word_to_id['i']]\n",
    "print(cos_similarity(c0, c1))"
   ]
  },
  {
   "cell_type": "markdown",
   "id": "e556681a",
   "metadata": {},
   "source": [
    "## 3.6. 유사 단어 랭킹 표시"
   ]
  },
  {
   "cell_type": "code",
   "execution_count": 40,
   "id": "3be81e7a",
   "metadata": {},
   "outputs": [],
   "source": [
    "def most_similar(query, word_to_id, id_to_word, word_matrix, top=5):\n",
    "    '''유사 단어 검색\n",
    "    :param query: 쿼리(텍스트)\n",
    "    :param word_to_id: 단어에서 단어 ID로 변환하는 딕셔너리\n",
    "    :param id_to_word: 단어 ID에서 단어로 변환하는 딕셔너리\n",
    "    :param word_matrix: 단어 벡터를 정리한 행렬. 각 행에 해당 단어 벡터가 저장되어 있다고 가정한다.\n",
    "    :param top: 상위 몇 개까지 출력할 지 지정\n",
    "    '''\n",
    "    # 1) 검색어를 꺼낸다.\n",
    "    if query not in word_to_id:\n",
    "        print(f'{query}(을)를 찾을 수 없습니다.')\n",
    "        return \n",
    "    \n",
    "    print(f'\\n[query] {query}')\n",
    "    query_id = word_to_id[query]\n",
    "    query_vec = word_matrix[query_id]\n",
    "    \n",
    "    # 2) 코사인 유사도 계산\n",
    "    vocab_size = len(id_to_word)\n",
    "    similarity = np.zeros(vocab_size)\n",
    "    for i in range(vocab_size):\n",
    "        similarity[i] = cos_similarity(word_matrix[i], query_vec)\n",
    "        \n",
    "    # 3) 코사인 유사도를 기준으로 내림차순으로 출력\n",
    "    count = 0\n",
    "    for i in (-1 * similarity).argsort():\n",
    "        if id_to_word[i] == query:\n",
    "            continue\n",
    "        print(f' {id_to_word[i]}: {similarity[i]}')\n",
    "        \n",
    "        count +=1\n",
    "        if count >= top:\n",
    "            return\n"
   ]
  },
  {
   "cell_type": "code",
   "execution_count": 45,
   "id": "dd188502",
   "metadata": {},
   "outputs": [
    {
     "name": "stdout",
     "output_type": "stream",
     "text": [
      "[1 2 0]\n",
      "[0 2 1]\n"
     ]
    }
   ],
   "source": [
    "x = np.array([100, -20, 2])\n",
    "print(x.argsort()) # 넘파이 배열 오름차순 정렬 -> 인덱스 리턴\n",
    "print((-x).argsort()) # 큰 순서로 정렬됨"
   ]
  },
  {
   "cell_type": "code",
   "execution_count": 41,
   "id": "aaa3e0a6",
   "metadata": {},
   "outputs": [
    {
     "name": "stdout",
     "output_type": "stream",
     "text": [
      "\n",
      "[query] you\n",
      " goodbye: 0.7071067811865475\n",
      " i: 0.7071067811865475\n",
      " hello: 0.7071067811865475\n",
      " say: 0.0\n",
      " and: 0.0\n"
     ]
    }
   ],
   "source": [
    "most_similar('you', word_to_id, id_to_word, C, top=5)"
   ]
  },
  {
   "cell_type": "markdown",
   "id": "3d470900",
   "metadata": {},
   "source": [
    "# 통계 기반 방법 개선하기\n"
   ]
  },
  {
   "cell_type": "markdown",
   "id": "79a904db",
   "metadata": {},
   "source": [
    "## 상호 정보량\n",
    "\n",
    "PMI\n",
    "- x,y가 동시에 발생할 확률 / (x 발생 확률 * y 발생 확률)\n",
    "- x,y 동시 발생 횟수 * N / (x 발생 횟수 * y 발생 횟수)\n",
    "- 동시 발생 횟수가 0인 경우 -log0 로 음의 무한대가 됨 \n",
    "- 따라서 주로 max (0, PMI) 사용\n"
   ]
  },
  {
   "cell_type": "code",
   "execution_count": 2,
   "id": "4dd71992",
   "metadata": {
    "ExecuteTime": {
     "end_time": "2023-07-04T15:11:58.806897Z",
     "start_time": "2023-07-04T15:11:58.792704Z"
    }
   },
   "outputs": [],
   "source": [
    "def pmi(C, verbose = False, eps = 1e-8):\n",
    "    M = np.zeros_like(C, dtype = np.float32)\n",
    "    N = np.sum(C)\n",
    "    S = np.sum(C, axis = 0)\n",
    "    total = C.shape[0] * C.shape[1]\n",
    "    cnt = 0\n",
    "    \n",
    "    for i in range(C.shape[0]):\n",
    "        for j in range(C.shape[1]):\n",
    "            pmi = np.log2(C[i,j] * N / S[j]*S[i] + eps)\n",
    "            M[i,j] = max(0, pmi)\n",
    "            \n",
    "            "
   ]
  },
  {
   "cell_type": "code",
   "execution_count": 3,
   "id": "8cb07500",
   "metadata": {
    "ExecuteTime": {
     "end_time": "2023-07-04T15:14:16.783596Z",
     "start_time": "2023-07-04T15:14:16.727788Z"
    }
   },
   "outputs": [
    {
     "name": "stdout",
     "output_type": "stream",
     "text": [
      "동시발생 행렬\n",
      "[[0 1 0 0 0 0 0]\n",
      " [1 0 1 0 1 1 0]\n",
      " [0 1 0 1 0 0 0]\n",
      " [0 0 1 0 1 0 0]\n",
      " [0 1 0 1 0 0 0]\n",
      " [0 1 0 0 0 0 1]\n",
      " [0 0 0 0 0 1 0]]\n",
      "--------------------------------------------------\n",
      "PPMI\n",
      "[[0.    1.807 0.    0.    0.    0.    0.   ]\n",
      " [1.807 0.    0.807 0.    0.807 0.807 0.   ]\n",
      " [0.    0.807 0.    1.807 0.    0.    0.   ]\n",
      " [0.    0.    1.807 0.    1.807 0.    0.   ]\n",
      " [0.    0.807 0.    1.807 0.    0.    0.   ]\n",
      " [0.    0.807 0.    0.    0.    0.    2.807]\n",
      " [0.    0.    0.    0.    0.    2.807 0.   ]]\n"
     ]
    }
   ],
   "source": [
    "import sys\n",
    "sys.path.append('..')\n",
    "import numpy as np\n",
    "from common.util import preprocess, create_co_matrix, cos_similarity, ppmi\n",
    "text = 'You say goodbye and I say hello.'\n",
    "corpus, word_to_id, id_to_word = preprocess(text)\n",
    "vocab_size = len(word_to_id)\n",
    "C = create_co_matrix(corpus, vocab_size)\n",
    "W = ppmi(C)\n",
    "\n",
    "np. set_printoptions(precision = 3)\n",
    "print('동시발생 행렬')\n",
    "print(C)\n",
    "print('-'*50)\n",
    "print('PPMI')\n",
    "print(W)"
   ]
  },
  {
   "cell_type": "markdown",
   "id": "8aef1f7f",
   "metadata": {},
   "source": [
    "## 차원 감소\n",
    "중요한 정보는 최대한 유지하면서 차원을 줄임\n",
    "특잇값분해\n",
    "- $ X = USV^T$\n",
    "- $U$ : orthogonal matrix, 공간의 기저를 형성. \n",
    "- $S$: 대각 행렬, 대각 성분에는 특잇값이 큰 순서대로 나열되어 있음. 특잇값은 해당축의 중요도로 간주할 수 있음. \n",
    "- $V$: orthogonal matrix\n",
    "- S에서 특잇값 작은 것들 깎아내서 U의 차원을 줄여 표현할 수 있음. "
   ]
  },
  {
   "cell_type": "markdown",
   "id": "a70db0a8",
   "metadata": {},
   "source": [
    "## SVD에 의한 차원 감소"
   ]
  },
  {
   "cell_type": "code",
   "execution_count": 2,
   "id": "5b111660",
   "metadata": {
    "ExecuteTime": {
     "end_time": "2023-07-05T15:54:23.481981Z",
     "start_time": "2023-07-05T15:54:23.291521Z"
    }
   },
   "outputs": [],
   "source": [
    "import sys\n",
    "sys.path.append('..')\n",
    "import numpy as np\n",
    "from common.util import preprocess, create_co_matrix, cos_similarity, ppmi\n",
    "text = 'You say goodbye and I say hello.'\n",
    "corpus, word_to_id, id_to_word = preprocess(text)\n",
    "vocab_size = len(word_to_id)\n",
    "C = create_co_matrix(corpus, vocab_size)\n",
    "W = ppmi(C)"
   ]
  },
  {
   "cell_type": "code",
   "execution_count": 3,
   "id": "3747e966",
   "metadata": {
    "ExecuteTime": {
     "end_time": "2023-07-05T15:54:25.923613Z",
     "start_time": "2023-07-05T15:54:23.976659Z"
    }
   },
   "outputs": [],
   "source": [
    "import matplotlib.pyplot as plt\n",
    "U, S, V = np.linalg.svd(W)"
   ]
  },
  {
   "cell_type": "code",
   "execution_count": 4,
   "id": "6d2cd6b2",
   "metadata": {
    "ExecuteTime": {
     "end_time": "2023-07-05T15:55:34.867911Z",
     "start_time": "2023-07-05T15:55:34.182742Z"
    }
   },
   "outputs": [
    {
     "data": {
      "image/png": "[encoded data removed]",
      "text/plain": [
       "<Figure size 432x288 with 1 Axes>"
      ]
     },
     "metadata": {
      "needs_background": "light"
     },
     "output_type": "display_data"
    }
   ],
   "source": [
    "for word, word_id in word_to_id.items():\n",
    "    plt.annotate(word, (U[word_id, 0], U[word_id, 1]))\n",
    "    \n",
    "plt.scatter(U[:,0], U[:,1],  alpha=0.5)\n",
    "plt.show()"
   ]
  },
  {
   "cell_type": "markdown",
   "id": "a97140e6",
   "metadata": {},
   "source": [
    "## PTB 데이터셋"
   ]
  },
  {
   "cell_type": "code",
   "execution_count": 7,
   "id": "1243194a",
   "metadata": {
    "ExecuteTime": {
     "end_time": "2023-07-05T16:15:13.486976Z",
     "start_time": "2023-07-05T15:59:11.400003Z"
    }
   },
   "outputs": [
    {
     "name": "stdout",
     "output_type": "stream",
     "text": [
      "동시발생 수 계산...\n"
     ]
    },
    {
     "name": "stderr",
     "output_type": "stream",
     "text": [
      "C:\\Users\\ykm25\\DLFromScratch2\\common\\util.py:134: RuntimeWarning: overflow encountered in long_scalars\n",
      "  pmi = np.log2(C[i, j] * N / (S[i]*S[j]) + eps)\n",
      "C:\\Users\\ykm25\\DLFromScratch2\\common\\util.py:134: RuntimeWarning: invalid value encountered in log2\n",
      "  pmi = np.log2(C[i, j] * N / (S[i]*S[j]) + eps)\n"
     ]
    },
    {
     "name": "stdout",
     "output_type": "stream",
     "text": [
      "1.00 완료\n",
      "2.00 완료\n",
      "3.00 완료\n",
      "4.00 완료\n",
      "5.00 완료\n",
      "6.00 완료\n",
      "7.00 완료\n",
      "8.00 완료\n",
      "9.00 완료\n",
      "10.00 완료\n",
      "11.00 완료\n",
      "12.00 완료\n",
      "13.00 완료\n",
      "14.00 완료\n",
      "15.00 완료\n",
      "16.00 완료\n",
      "17.00 완료\n",
      "18.00 완료\n",
      "19.00 완료\n",
      "20.00 완료\n",
      "21.00 완료\n",
      "22.00 완료\n",
      "23.00 완료\n",
      "24.00 완료\n",
      "25.00 완료\n",
      "26.00 완료\n",
      "27.00 완료\n",
      "28.00 완료\n",
      "29.00 완료\n",
      "30.00 완료\n",
      "31.00 완료\n",
      "32.00 완료\n",
      "33.00 완료\n",
      "34.00 완료\n",
      "35.00 완료\n",
      "36.00 완료\n",
      "37.00 완료\n",
      "38.00 완료\n",
      "39.00 완료\n",
      "40.00 완료\n",
      "41.00 완료\n",
      "42.00 완료\n",
      "43.00 완료\n",
      "44.00 완료\n",
      "45.00 완료\n",
      "46.00 완료\n",
      "47.00 완료\n",
      "48.00 완료\n",
      "49.00 완료\n",
      "50.00 완료\n",
      "51.00 완료\n",
      "52.00 완료\n",
      "53.00 완료\n",
      "54.00 완료\n",
      "55.00 완료\n",
      "56.00 완료\n",
      "57.00 완료\n",
      "58.00 완료\n",
      "59.00 완료\n",
      "60.00 완료\n",
      "61.00 완료\n",
      "62.00 완료\n",
      "63.00 완료\n",
      "64.00 완료\n",
      "65.00 완료\n",
      "66.00 완료\n",
      "67.00 완료\n",
      "68.00 완료\n",
      "69.00 완료\n",
      "70.00 완료\n",
      "71.00 완료\n",
      "72.00 완료\n",
      "73.00 완료\n",
      "74.00 완료\n",
      "75.00 완료\n",
      "76.00 완료\n",
      "77.00 완료\n",
      "78.00 완료\n",
      "79.00 완료\n",
      "80.00 완료\n",
      "81.00 완료\n",
      "82.00 완료\n",
      "83.00 완료\n",
      "84.00 완료\n",
      "85.00 완료\n",
      "86.00 완료\n",
      "87.00 완료\n",
      "88.00 완료\n",
      "89.00 완료\n",
      "90.00 완료\n",
      "91.00 완료\n",
      "92.00 완료\n",
      "93.00 완료\n",
      "94.00 완료\n",
      "95.00 완료\n",
      "96.00 완료\n",
      "97.00 완료\n",
      "98.00 완료\n",
      "99.00 완료\n",
      "100.00 완료\n"
     ]
    }
   ],
   "source": [
    "import sys\n",
    "sys.path.append('..')\n",
    "import numpy as np\n",
    "from common.util import most_similar, create_co_matrix, ppmi\n",
    "from dataset import ptb\n",
    "\n",
    "window_size = 2\n",
    "wordvec_size = 100\n",
    "\n",
    "corpus, word_to_id, id_to_word = ptb.load_data('train')\n",
    "vocab_size = len(word_to_id)\n",
    "print('동시발생 수 계산...')\n",
    "C = create_co_matrix(corpus, vocab_size, window_size)\n",
    "W = ppmi(C, verbose = True)"
   ]
  },
  {
   "cell_type": "code",
   "execution_count": 8,
   "id": "c447c1ee",
   "metadata": {
    "ExecuteTime": {
     "end_time": "2023-07-05T16:15:23.101407Z",
     "start_time": "2023-07-05T16:15:13.540831Z"
    }
   },
   "outputs": [
    {
     "name": "stdout",
     "output_type": "stream",
     "text": [
      "\n",
      "[query] you\n",
      " i: 0.6984682679176331\n",
      " we: 0.6044149994850159\n",
      " do: 0.5949453115463257\n",
      " anybody: 0.584631621837616\n",
      " 'd: 0.525708019733429\n",
      "\n",
      "[query] year\n",
      " earlier: 0.662046492099762\n",
      " month: 0.6441275477409363\n",
      " last: 0.6324495077133179\n",
      " quarter: 0.6240189671516418\n",
      " next: 0.593936026096344\n",
      "\n",
      "[query] car\n",
      " luxury: 0.5601484775543213\n",
      " cars: 0.5449755787849426\n",
      " auto: 0.5238342881202698\n",
      " truck: 0.52365642786026\n",
      " vehicle: 0.5158299207687378\n",
      "\n",
      "[query] toyota\n",
      " motor: 0.7549260258674622\n",
      " nissan: 0.6835561990737915\n",
      " motors: 0.67510586977005\n",
      " mazda: 0.6597824692726135\n",
      " honda: 0.6356290578842163\n"
     ]
    }
   ],
   "source": [
    "try:\n",
    "    # truncated SVD\n",
    "    from sklearn.utils.extmath import randomized_svd\n",
    "    U, S, V = randomized_svd(W, n_components=wordvec_size, n_iter=5,\n",
    "                             random_state=None)\n",
    "except:\n",
    "    # SVD\n",
    "    U, S, V = np.linalg.svd(W)\n",
    "\n",
    "    \n",
    "word_vecs = U[:, :wordvec_size]\n",
    "querys = ['you', 'year', 'car', 'toyota']\n",
    "for query in querys:\n",
    "    most_similar(query, word_to_id, id_to_word, word_vecs, top=5)"
   ]
  }
 ],
 "metadata": {
  "hide_input": false,
  "kernelspec": {
   "display_name": "Python 3",
   "language": "python",
   "name": "python3"
  },
  "language_info": {
   "codemirror_mode": {
    "name": "ipython",
    "version": 3
   },
   "file_extension": ".py",
   "mimetype": "text/x-python",
   "name": "python",
   "nbconvert_exporter": "python",
   "pygments_lexer": "ipython3",
   "version": "3.8.3"
  },
  "toc": {
   "base_numbering": 1,
   "nav_menu": {},
   "number_sections": true,
   "sideBar": true,
   "skip_h1_title": false,
   "title_cell": "Table of Contents",
   "title_sidebar": "Contents",
   "toc_cell": false,
   "toc_position": {},
   "toc_section_display": true,
   "toc_window_display": false
  },
  "varInspector": {
   "cols": {
    "lenName": 16,
    "lenType": 16,
    "lenVar": 40
   },
   "kernels_config": {
    "python": {
     "delete_cmd_postfix": "",
     "delete_cmd_prefix": "del ",
     "library": "var_list.py",
     "varRefreshCmd": "print(var_dic_list())"
    },
    "r": {
     "delete_cmd_postfix": ") ",
     "delete_cmd_prefix": "rm(",
     "library": "var_list.r",
     "varRefreshCmd": "cat(var_dic_list()) "
    }
   },
   "types_to_exclude": [
    "module",
    "function",
    "builtin_function_or_method",
    "instance",
    "_Feature"
   ],
   "window_display": false
  }
 },
 "nbformat": 4,
 "nbformat_minor": 5
}
