{
 "cells": [
  {
   "cell_type": "code",
   "execution_count": 68,
   "id": "c3ba31ab",
   "metadata": {
    "ExecuteTime": {
     "end_time": "2023-07-02T12:55:19.085716Z",
     "start_time": "2023-07-02T12:55:19.074877Z"
    }
   },
   "outputs": [],
   "source": [
    "import os\n",
    "os.chdir('DLFromScratch2')"
   ]
  },
  {
   "cell_type": "code",
   "execution_count": 1,
   "id": "6905b63c",
   "metadata": {
    "ExecuteTime": {
     "end_time": "2023-07-02T07:15:45.054125Z",
     "start_time": "2023-07-02T07:15:45.042155Z"
    }
   },
   "outputs": [],
   "source": [
    "import numpy as np"
   ]
  },
  {
   "cell_type": "markdown",
   "id": "e5d9bd2e",
   "metadata": {},
   "source": [
    "# 1. 수학과 파이썬 복습"
   ]
  },
  {
   "cell_type": "markdown",
   "id": "6698a92a",
   "metadata": {},
   "source": [
    "## 1.1. 벡터와 행렬"
   ]
  },
  {
   "cell_type": "code",
   "execution_count": 4,
   "id": "7af88d2f",
   "metadata": {
    "ExecuteTime": {
     "end_time": "2023-07-02T07:16:17.600262Z",
     "start_time": "2023-07-02T07:16:17.592284Z"
    }
   },
   "outputs": [
    {
     "data": {
      "text/plain": [
       "numpy.ndarray"
      ]
     },
     "execution_count": 4,
     "metadata": {},
     "output_type": "execute_result"
    }
   ],
   "source": [
    "# 벡터와 행렬\n",
    "x = np.array([1,2,3])\n",
    "x.__class__\n"
   ]
  },
  {
   "cell_type": "code",
   "execution_count": 5,
   "id": "e02fd842",
   "metadata": {
    "ExecuteTime": {
     "end_time": "2023-07-02T07:16:21.995982Z",
     "start_time": "2023-07-02T07:16:21.984016Z"
    }
   },
   "outputs": [
    {
     "data": {
      "text/plain": [
       "(3,)"
      ]
     },
     "execution_count": 5,
     "metadata": {},
     "output_type": "execute_result"
    }
   ],
   "source": [
    "x.shape"
   ]
  },
  {
   "cell_type": "code",
   "execution_count": 6,
   "id": "e6d1a9bb",
   "metadata": {
    "ExecuteTime": {
     "end_time": "2023-07-02T07:16:30.671389Z",
     "start_time": "2023-07-02T07:16:30.650445Z"
    }
   },
   "outputs": [
    {
     "data": {
      "text/plain": [
       "1"
      ]
     },
     "execution_count": 6,
     "metadata": {},
     "output_type": "execute_result"
    }
   ],
   "source": [
    "x.ndim"
   ]
  },
  {
   "cell_type": "code",
   "execution_count": 7,
   "id": "d39a5f3e",
   "metadata": {
    "ExecuteTime": {
     "end_time": "2023-07-02T07:16:49.814910Z",
     "start_time": "2023-07-02T07:16:49.808926Z"
    }
   },
   "outputs": [],
   "source": [
    "W = np.array([[1,2,3], [4,5,6]])"
   ]
  },
  {
   "cell_type": "code",
   "execution_count": 8,
   "id": "74c8fcca",
   "metadata": {
    "ExecuteTime": {
     "end_time": "2023-07-02T07:16:52.977381Z",
     "start_time": "2023-07-02T07:16:52.957436Z"
    }
   },
   "outputs": [
    {
     "data": {
      "text/plain": [
       "(2, 3)"
      ]
     },
     "execution_count": 8,
     "metadata": {},
     "output_type": "execute_result"
    }
   ],
   "source": [
    "W.shape"
   ]
  },
  {
   "cell_type": "code",
   "execution_count": 10,
   "id": "bf5ffc6f",
   "metadata": {
    "ExecuteTime": {
     "end_time": "2023-07-02T07:17:32.606431Z",
     "start_time": "2023-07-02T07:17:32.583478Z"
    }
   },
   "outputs": [
    {
     "data": {
      "text/plain": [
       "2"
      ]
     },
     "execution_count": 10,
     "metadata": {},
     "output_type": "execute_result"
    }
   ],
   "source": [
    "W.ndim"
   ]
  },
  {
   "cell_type": "markdown",
   "id": "21ee2ca9",
   "metadata": {},
   "source": [
    "## 1.2. 행렬의 원소별 연산"
   ]
  },
  {
   "cell_type": "code",
   "execution_count": 11,
   "id": "87e6f12d",
   "metadata": {
    "ExecuteTime": {
     "end_time": "2023-07-02T07:17:59.496119Z",
     "start_time": "2023-07-02T07:17:59.477168Z"
    }
   },
   "outputs": [
    {
     "data": {
      "text/plain": [
       "array([[ 1,  3,  5],\n",
       "       [ 7,  9, 11]])"
      ]
     },
     "execution_count": 11,
     "metadata": {},
     "output_type": "execute_result"
    }
   ],
   "source": [
    "W = np.array([[1,2,3], [4,5,6]])\n",
    "X = np.array([[0,1,2], [3,4,5]])\n",
    "\n",
    "W+X"
   ]
  },
  {
   "cell_type": "code",
   "execution_count": 12,
   "id": "a461d425",
   "metadata": {
    "ExecuteTime": {
     "end_time": "2023-07-02T07:18:02.708525Z",
     "start_time": "2023-07-02T07:18:02.699549Z"
    }
   },
   "outputs": [
    {
     "data": {
      "text/plain": [
       "array([[ 0,  2,  6],\n",
       "       [12, 20, 30]])"
      ]
     },
     "execution_count": 12,
     "metadata": {},
     "output_type": "execute_result"
    }
   ],
   "source": [
    "W*X"
   ]
  },
  {
   "cell_type": "markdown",
   "id": "b6de0ad4",
   "metadata": {},
   "source": [
    "## 1.3. 브로드캐스트\n",
    "numpy 다차원 배열에서는 형상이 다른 배열끼리도 연산 가능"
   ]
  },
  {
   "cell_type": "code",
   "execution_count": 14,
   "id": "cb66ac6f",
   "metadata": {
    "ExecuteTime": {
     "end_time": "2023-07-02T07:19:06.027230Z",
     "start_time": "2023-07-02T07:19:06.018257Z"
    }
   },
   "outputs": [
    {
     "data": {
      "text/plain": [
       "array([[10, 20],\n",
       "       [30, 40]])"
      ]
     },
     "execution_count": 14,
     "metadata": {},
     "output_type": "execute_result"
    }
   ],
   "source": [
    "A= np.array([[1,2],[3,4]])\n",
    "A*10 # 10이 (2,2) 행렬로 확장되어 처리"
   ]
  },
  {
   "cell_type": "code",
   "execution_count": 17,
   "id": "75cd6129",
   "metadata": {
    "ExecuteTime": {
     "end_time": "2023-07-02T07:21:48.402759Z",
     "start_time": "2023-07-02T07:21:48.384805Z"
    }
   },
   "outputs": [
    {
     "data": {
      "text/plain": [
       "array([[10, 40],\n",
       "       [30, 80]])"
      ]
     },
     "execution_count": 17,
     "metadata": {},
     "output_type": "execute_result"
    }
   ],
   "source": [
    "A= np.array([[1,2],[3,4]])\n",
    "b = np.array([10,20])\n",
    "A*b # b가 [[10,20], [10,20]]으로 확장"
   ]
  },
  {
   "cell_type": "markdown",
   "id": "9e3cb27b",
   "metadata": {},
   "source": [
    "## 1.4. 벡터 내적과 행렬 곱"
   ]
  },
  {
   "cell_type": "code",
   "execution_count": 18,
   "id": "5e3b813e",
   "metadata": {
    "ExecuteTime": {
     "end_time": "2023-07-02T07:23:22.376260Z",
     "start_time": "2023-07-02T07:23:22.351322Z"
    }
   },
   "outputs": [
    {
     "data": {
      "text/plain": [
       "32"
      ]
     },
     "execution_count": 18,
     "metadata": {},
     "output_type": "execute_result"
    }
   ],
   "source": [
    "# 벡터의 내적\n",
    "a = np.array([1,2,3])\n",
    "b = np.array([4,5,6])\n",
    "np.dot(a,b)"
   ]
  },
  {
   "cell_type": "code",
   "execution_count": 19,
   "id": "95134a28",
   "metadata": {
    "ExecuteTime": {
     "end_time": "2023-07-02T07:23:52.184673Z",
     "start_time": "2023-07-02T07:23:52.164727Z"
    }
   },
   "outputs": [
    {
     "data": {
      "text/plain": [
       "array([[19, 22],\n",
       "       [43, 50]])"
      ]
     },
     "execution_count": 19,
     "metadata": {},
     "output_type": "execute_result"
    }
   ],
   "source": [
    "# 행렬의 곱\n",
    "A = np.array([[1,2], [3,4]])\n",
    "B = np.array([[5,6], [7,8]])\n",
    "np.matmul(A,B)"
   ]
  },
  {
   "cell_type": "code",
   "execution_count": 20,
   "id": "0b52eb60",
   "metadata": {
    "ExecuteTime": {
     "end_time": "2023-07-02T07:24:10.417835Z",
     "start_time": "2023-07-02T07:24:10.402885Z"
    }
   },
   "outputs": [
    {
     "data": {
      "text/plain": [
       "array([[19, 22],\n",
       "       [43, 50]])"
      ]
     },
     "execution_count": 20,
     "metadata": {},
     "output_type": "execute_result"
    }
   ],
   "source": [
    "np.dot(A,B)"
   ]
  },
  {
   "cell_type": "markdown",
   "id": "0874d3f6",
   "metadata": {},
   "source": [
    "# 2. 신경망의 추론"
   ]
  },
  {
   "cell_type": "markdown",
   "id": "44559e39",
   "metadata": {},
   "source": [
    "- 입력층 2개, 출력층 3개, 은닉층 4개 뉴런 가정\n",
    "- 은닉층의 뉴런은 가중치의 합으로 계산\n",
    "\n",
    "$h_1 = x_1w_{11} + x2w_{21} + b_1 $\n",
    "\n",
    "- 행렬 곱으로 정리 가능\n",
    "\n",
    "$h = xW + b $\n",
    "\n",
    "- 형상\n",
    "    - x: Nx2\n",
    "    - W: 2x4\n",
    "    - h: Nx4\n",
    "   \n"
   ]
  },
  {
   "cell_type": "code",
   "execution_count": 21,
   "id": "0c565c64",
   "metadata": {
    "ExecuteTime": {
     "end_time": "2023-07-02T07:44:53.125766Z",
     "start_time": "2023-07-02T07:44:53.112800Z"
    }
   },
   "outputs": [],
   "source": [
    "import numpy as np\n",
    "W1 = np.random.randn(2,4) # 가중치\n",
    "b1 = np.random.randn(4) # 편향\n",
    "x = np.random.randn(10,2) # 입력\n",
    "h = np.matmul(x, W1) +b1"
   ]
  },
  {
   "cell_type": "code",
   "execution_count": 22,
   "id": "41bcdea0",
   "metadata": {
    "ExecuteTime": {
     "end_time": "2023-07-02T07:46:07.911357Z",
     "start_time": "2023-07-02T07:46:07.901388Z"
    }
   },
   "outputs": [],
   "source": [
    "# 시그모이드 활성화 함수 사용\n",
    "def sigmoid(x):\n",
    "    return 1/(1+np.exp(-x))"
   ]
  },
  {
   "cell_type": "code",
   "execution_count": 25,
   "id": "35140d89",
   "metadata": {
    "ExecuteTime": {
     "end_time": "2023-07-02T07:47:25.970490Z",
     "start_time": "2023-07-02T07:47:25.950543Z"
    }
   },
   "outputs": [],
   "source": [
    "# 활성화 함수를통해 비선형 변환\n",
    "a = sigmoid(h)"
   ]
  },
  {
   "cell_type": "code",
   "execution_count": 27,
   "id": "91cb5d53",
   "metadata": {
    "ExecuteTime": {
     "end_time": "2023-07-02T07:52:58.877043Z",
     "start_time": "2023-07-02T07:52:58.863047Z"
    }
   },
   "outputs": [],
   "source": [
    "x = np.random.randn(10,2) # 입력\n",
    "W1 = np.random.randn(2,4) # 가중치\n",
    "b1 = np.random.randn(4) # 편향\n",
    "\n",
    "W2 = np.random.randn(4,3) # 가중치\n",
    "b2 = np.random.randn(3) # 편향\n",
    "\n",
    "h = np.matmul(x, W1) + b1 # (10,4)\n",
    "a = sigmoid(h) #(10,4)\n",
    "s = np.matmul(a, W2) + b2 # (10,3) -> 출력층에서 가장 큰 값을 뱉는 뉴런에 해당하는 클래스가 예측 결과가 됨"
   ]
  },
  {
   "cell_type": "markdown",
   "id": "330fa4bd",
   "metadata": {},
   "source": [
    "## 2.2. 계층으로 클래스화 및 순전파 구현"
   ]
  },
  {
   "cell_type": "code",
   "execution_count": 28,
   "id": "d1009e38",
   "metadata": {
    "ExecuteTime": {
     "end_time": "2023-07-02T07:58:42.068636Z",
     "start_time": "2023-07-02T07:58:42.059660Z"
    }
   },
   "outputs": [],
   "source": [
    "class Sigmoid:\n",
    "    def __init__(self):\n",
    "        self.params = []\n",
    "        \n",
    "    def forward(self, x):\n",
    "        return 1/(1+np.exp(-x))"
   ]
  },
  {
   "cell_type": "code",
   "execution_count": 29,
   "id": "4244678d",
   "metadata": {
    "ExecuteTime": {
     "end_time": "2023-07-02T08:00:20.518009Z",
     "start_time": "2023-07-02T08:00:20.498063Z"
    }
   },
   "outputs": [],
   "source": [
    "# Affine: 순전파 시 행렬곱을 수행하는 계층\n",
    "class Affine:\n",
    "    def __init__(self, W, b):\n",
    "        self.params = [W, b]\n",
    "        \n",
    "    def forward(self, x):\n",
    "        W,b = self.params\n",
    "        out = np.matmul(x,W) + b\n",
    "        return out"
   ]
  },
  {
   "cell_type": "code",
   "execution_count": 42,
   "id": "47374b7b",
   "metadata": {
    "ExecuteTime": {
     "end_time": "2023-07-02T08:14:14.804508Z",
     "start_time": "2023-07-02T08:14:14.788547Z"
    }
   },
   "outputs": [],
   "source": [
    "class TwoLayerNet:\n",
    "    def __init__(self, input_size, hidden_size, output_size):\n",
    "        I, H, O = input_size, hidden_size, output_size\n",
    "        \n",
    "        # 가중치와 편향 초기화\n",
    "        W1 = np.random.randn(I, H)\n",
    "        b1 = np.random.randn(H)\n",
    "        W2 = np.random.randn(H, O)\n",
    "        b2 = np.random.randn(O)\n",
    "        \n",
    "        # 계층 생성\n",
    "        self.layers = [\n",
    "            Affine(W1, b1),\n",
    "            Sigmoid(), \n",
    "            Affine(W2, b2)\n",
    "        ]\n",
    "        \n",
    "        # 모든 가중치 리스트에 모으기\n",
    "        self.params = []\n",
    "        for layer in self.layers:\n",
    "            self.params += layer.params\n",
    "            \n",
    "    def predict(self, x):\n",
    "        for layer in self.layers:\n",
    "            x = layer.forward(x)\n",
    "\n",
    "        return x"
   ]
  },
  {
   "cell_type": "code",
   "execution_count": 43,
   "id": "afad394e",
   "metadata": {
    "ExecuteTime": {
     "end_time": "2023-07-02T08:14:15.117339Z",
     "start_time": "2023-07-02T08:14:15.103380Z"
    }
   },
   "outputs": [],
   "source": [
    "x = np.random.randn(10,2)\n",
    "model = TwoLayerNet(2, 4, 3)\n",
    "s = model.predict(x)"
   ]
  },
  {
   "cell_type": "markdown",
   "id": "b66a4658",
   "metadata": {},
   "source": [
    "# 3. 신경망의 학습"
   ]
  },
  {
   "cell_type": "markdown",
   "id": "ea87ec1e",
   "metadata": {},
   "source": [
    "## 3.1. 손실 함수"
   ]
  },
  {
   "cell_type": "markdown",
   "id": "e4b1c9a3",
   "metadata": {},
   "source": [
    "- 소프트맥스 함수\n",
    "\n",
    "$y_k = {exp(s_k)}/{\\sum_{i=1}^{n}(exp(s_i))}$\n",
    "\n",
    "- 교차 엔트로피오차\n",
    "\n",
    "$ L = = - \\sum_{k} t_k \\log{y_k}$\n",
    "\n",
    "- 미니 배치 처리를 고려한 교차 엔트로피 식\n",
    "\n",
    "$ L = = - \\frac{1}{N}\\sum_{n}\\sum_{k} t_{nk} \\log{y_nk}$\n"
   ]
  },
  {
   "cell_type": "markdown",
   "id": "809b4e06",
   "metadata": {},
   "source": [
    "## 3.2. 미분과 기울기"
   ]
  },
  {
   "cell_type": "markdown",
   "id": "534741a5",
   "metadata": {},
   "source": [
    "- 미분: x의 값을 조금 변화 시켰을 때 y 값이 얼마나 변하는가에 대한 변화의 정도,\n",
    "$\\frac{dy}{dx}$\n",
    "- 기울기: 벡터의 각 원소에 대한 미분을 정리한 것"
   ]
  },
  {
   "cell_type": "markdown",
   "id": "f3069711",
   "metadata": {},
   "source": [
    "## 3.3. 연쇄 법칙"
   ]
  },
  {
   "cell_type": "markdown",
   "id": "3c4d0f09",
   "metadata": {
    "ExecuteTime": {
     "end_time": "2023-07-02T08:29:33.773676Z",
     "start_time": "2023-07-02T08:29:33.755724Z"
    }
   },
   "source": [
    "- $z = x+y$\n",
    "\n",
    "    - $\\frac{\\partial L}{\\partial x} = \\frac{\\partial L}{\\partial z} \\frac{\\partial z}{\\partial x} $\n",
    "    - $\\frac{\\partial L}{\\partial y} = \\frac{\\partial L}{\\partial z} \\frac{\\partial z}{\\partial y} $\n",
    "\n",
    "- 곱셈 노드: $z = xy$\n",
    "\n",
    "    - $\\frac{\\partial L}{\\partial x} = \\frac{\\partial L}{\\partial z} y $\n",
    "    - $\\frac{\\partial L}{\\partial y} = \\frac{\\partial L}{\\partial z} x $\n",
    "    \n",
    "- 분기 노드: 같은 값이 복제되어 분기 (복제 노드)\n",
    "\n",
    "- Repeat 노드: 2개로 분기하는 노드를 일반화하면 N개로 분기가 됨. 이를 Repeat 노드라고 함.\n",
    "\n"
   ]
  },
  {
   "cell_type": "code",
   "execution_count": 48,
   "id": "eb6010b3",
   "metadata": {
    "ExecuteTime": {
     "end_time": "2023-07-02T09:02:09.980871Z",
     "start_time": "2023-07-02T09:02:09.958935Z"
    }
   },
   "outputs": [],
   "source": [
    "# repeat 노드\n",
    "D, N = 8,7\n",
    "x = np.random.randn(1,D) # 입력\n",
    "y = np.repeat(x, N, axis = 0) # 순전파\n",
    "dy = np.random.randn(N, D) # 무작위 기울기\n",
    "dx = np.sum(dy, axis=0, keepdims = True) # 역전파"
   ]
  },
  {
   "cell_type": "code",
   "execution_count": 49,
   "id": "abd10f33",
   "metadata": {
    "ExecuteTime": {
     "end_time": "2023-07-02T09:07:37.986653Z",
     "start_time": "2023-07-02T09:07:37.966821Z"
    }
   },
   "outputs": [],
   "source": [
    "# sum 노드\n",
    "# 순전파: (N,D) 배열의 합을 0축에 대해 구함\n",
    "# 역전파: repeat\n",
    "D, N = 8,7\n",
    "x = np.random.randn(N, D) # 입력\n",
    "y = np.repeat(x, N, axis = 0) # 순전파\n",
    "dy = np.random.randn(1, D) # 무작위 기울기\n",
    "dx = np.repeat(dy, N, axis=0)# 역전파"
   ]
  },
  {
   "cell_type": "markdown",
   "id": "42b1d145",
   "metadata": {},
   "source": [
    "Matmul\n",
    "\n",
    "- $\\frac{\\partial L}{\\partial x_i} \\\\\n",
    "  = \\sum_j \\frac{\\partial L}{\\partial y_j} \\frac{\\partial y_j}{\\partial x_i}\\\\\n",
    "  = \\sum_j \\frac{\\partial L}{\\partial y_j} W_{ij}$\n",
    "  \n",
    "- $\\frac{\\partial L}{\\partial y}$와 W의 i행 벡터의 내적으로 구해짐을 알 수 있음\n",
    "    \n",
    "    $\\frac{\\partial L}{\\partial x} \\\\\n",
    "  = \\frac{\\partial L}{\\partial y} W^{T}$\n",
    "  \n",
    "-  $\\frac{\\partial L}{\\partial W}$\n",
    "\n",
    "    $\\frac{\\partial L}{\\partial W} \\\\\n",
    "  = x^{T} \\frac{\\partial L}{\\partial y} $"
   ]
  },
  {
   "cell_type": "code",
   "execution_count": 50,
   "id": "d09537b1",
   "metadata": {
    "ExecuteTime": {
     "end_time": "2023-07-02T09:29:31.114750Z",
     "start_time": "2023-07-02T09:29:31.104742Z"
    }
   },
   "outputs": [],
   "source": [
    "class MatMul:\n",
    "    def __init__(self, W):\n",
    "        self.params = [W]\n",
    "        self.grads = [np.zeros_like(W)]\n",
    "        self.X = None\n",
    "        \n",
    "    def forward(self, x):\n",
    "        W, = self.params \n",
    "        out = np.matmul(x, W)\n",
    "        self.x = x\n",
    "        return out\n",
    "    \n",
    "    def backward(self, dout):\n",
    "        W, = self.params\n",
    "        dx = np.matmul(dout, W.T)\n",
    "        dW = np.matmul(self.x.T, dout)\n",
    "        self.grads[0][...] = dW # for deep copy\n",
    "        return dx\n",
    "    "
   ]
  },
  {
   "cell_type": "markdown",
   "id": "17ab47ca",
   "metadata": {},
   "source": [
    "## 3.5. 기울기 도출과 역전파 구현"
   ]
  },
  {
   "cell_type": "markdown",
   "id": "69e975b0",
   "metadata": {
    "ExecuteTime": {
     "end_time": "2023-07-02T09:35:47.122144Z",
     "start_time": "2023-07-02T09:35:47.103195Z"
    }
   },
   "source": [
    "- sigmoid\n",
    "    - 수식: \n",
    "    $\\frac{\\mathrm{1} }{\\mathrm{1} + e^- x }$\n",
    "    - 미분: $\\frac{\\partial y}{\\partial x} = y(1-y) $"
   ]
  },
  {
   "cell_type": "code",
   "execution_count": 52,
   "id": "c35e7a22",
   "metadata": {
    "ExecuteTime": {
     "end_time": "2023-07-02T10:11:34.077534Z",
     "start_time": "2023-07-02T10:11:34.057590Z"
    }
   },
   "outputs": [],
   "source": [
    "class Sigmoid:\n",
    "    def __init__(self):\n",
    "        self.params, self.grads = [], []\n",
    "        self.out = None\n",
    "        \n",
    "    def forward(self, x):\n",
    "        out = 1/(1+np.exp(-x))\n",
    "        self.out = out\n",
    "        return out\n",
    "    \n",
    "    def backward(self, dout):\n",
    "        dx = dout * (1.0-self.out) * self.out\n",
    "        return dx"
   ]
  },
  {
   "cell_type": "code",
   "execution_count": 53,
   "id": "57b0fd77",
   "metadata": {
    "ExecuteTime": {
     "end_time": "2023-07-02T10:15:51.844506Z",
     "start_time": "2023-07-02T10:15:51.824558Z"
    }
   },
   "outputs": [],
   "source": [
    "class Affine:\n",
    "    def __init__(self, W, b):\n",
    "        self.params = [W, b]\n",
    "        self.grads = [np.zeros_like(W), np.zeros_like(b)]\n",
    "        self.x = None\n",
    "    \n",
    "    def forward(self, x):\n",
    "        W,b = self.params\n",
    "        out = np.matmul(x, W) + b\n",
    "        self.x = x\n",
    "        return out\n",
    "    \n",
    "    def backward(self, dout):\n",
    "        W, b = self.params\n",
    "        dx = np.matmul(dout, W.T)\n",
    "        dW = np.matmul(self.x.T, dout)\n",
    "        db  = np.sum(dout, axis = 0)\n",
    "        \n",
    "        self.grads[0][...] = dW\n",
    "        self.grads[1][...] = db\n",
    "        return dx"
   ]
  },
  {
   "cell_type": "markdown",
   "id": "9830f28a",
   "metadata": {},
   "source": [
    "## 3.6. 가중치 갱신"
   ]
  },
  {
   "cell_type": "markdown",
   "id": "6bcdb41c",
   "metadata": {},
   "source": [
    "신경망 학습 순서\n",
    "1. 미니 배치: 훈련 데이터 중 무작위로 다수의 데이터를 골라낸다.\n",
    "2. 기울기 계산: 오차역전파로 각 가중치 매개변수에 대한 손실함수의 기울기를 구한다. \n",
    "3. 매개변수 갱신\n",
    "4. 1~3단계 반복"
   ]
  },
  {
   "cell_type": "markdown",
   "id": "8f884268",
   "metadata": {},
   "source": [
    "가중치 갱신의 방법: 확률적 경사 하강법\n",
    "- $W \\leftarrow \\eta \\frac{\\partial L}{\\partial W} $\n",
    "- 가중치를 기울기 방향을 일정 거리만큼 갱신"
   ]
  },
  {
   "cell_type": "code",
   "execution_count": 54,
   "id": "ec7bc1d4",
   "metadata": {
    "ExecuteTime": {
     "end_time": "2023-07-02T12:40:21.253672Z",
     "start_time": "2023-07-02T12:40:21.240010Z"
    }
   },
   "outputs": [],
   "source": [
    "class SGD:\n",
    "    def __init__(self, lr = 0.01):\n",
    "        self.lr = lr\n",
    "        \n",
    "    def update(self, params, grads):\n",
    "        for i in range(len(params)):\n",
    "            paramas[i] -= self.lr * grads[i]\n",
    "            "
   ]
  },
  {
   "cell_type": "code",
   "execution_count": null,
   "id": "379e8a6c",
   "metadata": {},
   "outputs": [],
   "source": [
    "# SGD 활용 매개변수 갱신 수도 코드\n",
    "model = TwoLayerNet(...)\n",
    "optimizer = SGD()\n",
    "\n",
    "for i in range(10000):\n",
    "    x_batch, t_batch = get_mini_batch(...)\n",
    "    loss = model.forward(x_batch, t_batch)\n",
    "    model.backward()\n",
    "    optimizer.update(model.params, model.grads)"
   ]
  },
  {
   "cell_type": "markdown",
   "id": "6222eb59",
   "metadata": {},
   "source": [
    "# 4. 신경망으로 문제를 풀다"
   ]
  },
  {
   "cell_type": "markdown",
   "id": "6ec13f98",
   "metadata": {},
   "source": [
    "## 4.1. spiral 데이터셋"
   ]
  },
  {
   "cell_type": "code",
   "execution_count": 76,
   "id": "0d830218",
   "metadata": {
    "ExecuteTime": {
     "end_time": "2023-07-02T12:57:43.974314Z",
     "start_time": "2023-07-02T12:57:43.917490Z"
    }
   },
   "outputs": [],
   "source": [
    "sys.path.append('..')\n",
    "from DLFromScratch2.dataset import spiral\n",
    "x,t = load_data()"
   ]
  },
  {
   "cell_type": "code",
   "execution_count": 77,
   "id": "41a95722",
   "metadata": {
    "ExecuteTime": {
     "end_time": "2023-07-02T12:57:45.654871Z",
     "start_time": "2023-07-02T12:57:45.635921Z"
    }
   },
   "outputs": [
    {
     "name": "stdout",
     "output_type": "stream",
     "text": [
      "x (300, 2)\n",
      "t (300, 3)\n"
     ]
    }
   ],
   "source": [
    "print('x', x.shape)\n",
    "print('t', t.shape)"
   ]
  },
  {
   "cell_type": "markdown",
   "id": "e98bc7d7",
   "metadata": {},
   "source": [
    "## 4.2. 신경망 구현"
   ]
  },
  {
   "cell_type": "code",
   "execution_count": 72,
   "id": "7520bea2",
   "metadata": {
    "ExecuteTime": {
     "end_time": "2023-07-02T12:55:50.433521Z",
     "start_time": "2023-07-02T12:55:50.414610Z"
    }
   },
   "outputs": [],
   "source": [
    "from common.layers import Affine, Sigmoid, SoftmaxWithLoss"
   ]
  },
  {
   "cell_type": "code",
   "execution_count": 79,
   "id": "34cd7229",
   "metadata": {
    "ExecuteTime": {
     "end_time": "2023-07-02T13:05:08.081631Z",
     "start_time": "2023-07-02T13:05:08.057577Z"
    }
   },
   "outputs": [],
   "source": [
    "class TwoLayerNet:\n",
    "    def __init__(self, input_size, hidden_size, output_size):\n",
    "        I, H, O = input_size, hidden_size, output_size\n",
    "        \n",
    "        # 가중치와 편향 초기화\n",
    "        W1 = 0.01 * np.random.randn(I, H)\n",
    "        b1 = np.zeros(H)\n",
    "        W2 = 0.01 * np.random.randn(H, O)\n",
    "        b2 = np.zeros(O)\n",
    "        \n",
    "        # 계층 생성\n",
    "        self.layers = [\n",
    "            Affine(W1, b1),\n",
    "            Sigmoid(),\n",
    "            Affine(W2, b2)\n",
    "        ]\n",
    "        \n",
    "        self.loss_layer = SoftmaxWithLoss()\n",
    "        \n",
    "        # 모든 가중치와 기울기를 리스트에 모음\n",
    "        self.params, self.grads = [],[]\n",
    "        for layer in self.layers:\n",
    "            self.params += layer.params\n",
    "            self.grads += layer.grads\n",
    "            \n",
    "        \n",
    "        def predict(self, x):\n",
    "            for layer in self.layers:\n",
    "                x = layer.forward(x)\n",
    "            return x\n",
    "        \n",
    "        def forward(self, x, t):\n",
    "            score = self.predict(x)\n",
    "            loss = self.loss_layer.forward(score, t)\n",
    "            return loss\n",
    "        \n",
    "        def backward(self, dout=1):\n",
    "            dout = self.loss_layer.backward(dout)\n",
    "            for layer in reversed(self.layers):\n",
    "                dout = layer.backward(dout)\n",
    "                \n",
    "            return dout\n",
    "        \n",
    "        "
   ]
  },
  {
   "cell_type": "code",
   "execution_count": 85,
   "id": "154f2beb",
   "metadata": {
    "ExecuteTime": {
     "end_time": "2023-07-02T13:09:13.296663Z",
     "start_time": "2023-07-02T13:09:13.279969Z"
    }
   },
   "outputs": [],
   "source": [
    "os.chdir('Chap01-Neural_Networks_Review')"
   ]
  },
  {
   "cell_type": "code",
   "execution_count": 87,
   "id": "bce24b5e",
   "metadata": {
    "ExecuteTime": {
     "end_time": "2023-07-02T13:10:05.686853Z",
     "start_time": "2023-07-02T13:10:01.661869Z"
    }
   },
   "outputs": [
    {
     "name": "stderr",
     "output_type": "stream",
     "text": [
      "  6%|████▌                                                                           | 17/300 [00:00<00:01, 165.49it/s]"
     ]
    },
    {
     "name": "stdout",
     "output_type": "stream",
     "text": [
      "| 에폭 1 | 반복10/10 | 손실 1.13\n",
      "| 에폭 2 | 반복10/10 | 손실 1.13\n",
      "| 에폭 3 | 반복10/10 | 손실 1.12\n",
      "| 에폭 4 | 반복10/10 | 손실 1.12\n",
      "| 에폭 5 | 반복10/10 | 손실 1.11\n",
      "| 에폭 6 | 반복10/10 | 손실 1.14\n",
      "| 에폭 7 | 반복10/10 | 손실 1.16\n",
      "| 에폭 8 | 반복10/10 | 손실 1.11\n",
      "| 에폭 9 | 반복10/10 | 손실 1.12\n",
      "| 에폭 10 | 반복10/10 | 손실 1.13\n",
      "| 에폭 11 | 반복10/10 | 손실 1.12\n",
      "| 에폭 12 | 반복10/10 | 손실 1.11\n",
      "| 에폭 13 | 반복10/10 | 손실 1.09\n",
      "| 에폭 14 | 반복10/10 | 손실 1.08\n",
      "| 에폭 15 | 반복10/10 | 손실 1.04\n",
      "| 에폭 16 | 반복10/10 | 손실 1.03\n",
      "| 에폭 17 | 반복10/10 | 손실 0.96\n",
      "| 에폭 18 | 반복10/10 | 손실 0.92\n",
      "| 에폭 19 | 반복10/10 | 손실 0.92\n",
      "| 에폭 20 | 반복10/10 | 손실 0.87\n",
      "| 에폭 21 | 반복10/10 | 손실 0.85\n",
      "| 에폭 22 | 반복10/10 | 손실 0.82\n",
      "| 에폭 23 | 반복10/10 | 손실 0.79\n",
      "| 에폭 24 | 반복10/10 | 손실 0.78\n",
      "| 에폭 25 | 반복10/10 | 손실 0.82\n",
      "| 에폭 26 | 반복10/10 | 손실 0.78\n",
      "| 에폭 27 | 반복10/10 | 손실 0.76\n",
      "| 에폭 28 | 반복10/10 | 손실 0.76\n",
      "| 에폭 29 | 반복10/10 | 손실 0.78\n",
      "| 에폭 30 | 반복10/10 | 손실 0.75\n",
      "| 에폭 31 | 반복10/10 | 손실 0.78\n",
      "| 에폭 32 | 반복10/10 | 손실 0.77\n",
      "| 에폭 33 | 반복10/10 | 손실 0.77\n",
      "| 에폭 34 | 반복10/10 | 손실 0.78\n",
      "| 에폭 35 | 반복10/10 | 손실 0.75\n",
      "| 에폭 36 | 반복10/10 | 손실 0.74\n",
      "| 에폭 37 | 반복10/10 | 손실 0.76\n",
      "| 에폭 38 | 반복10/10 | 손실 0.76\n",
      "| 에폭 39 | 반복10/10 | 손실 0.73"
     ]
    },
    {
     "name": "stderr",
     "output_type": "stream",
     "text": [
      " 20%|███████████████▋                                                                | 59/300 [00:00<00:01, 183.37it/s]"
     ]
    },
    {
     "name": "stdout",
     "output_type": "stream",
     "text": [
      "\n",
      "| 에폭 40 | 반복10/10 | 손실 0.75\n",
      "| 에폭 41 | 반복10/10 | 손실 0.76\n",
      "| 에폭 42 | 반복10/10 | 손실 0.76\n",
      "| 에폭 43 | 반복10/10 | 손실 0.76\n",
      "| 에폭 44 | 반복10/10 | 손실 0.74\n",
      "| 에폭 45 | 반복10/10 | 손실 0.75\n",
      "| 에폭 46 | 반복10/10 | 손실 0.73\n",
      "| 에폭 47 | 반복10/10 | 손실 0.72\n",
      "| 에폭 48 | 반복10/10 | 손실 0.73\n",
      "| 에폭 49 | 반복10/10 | 손실 0.72\n",
      "| 에폭 50 | 반복10/10 | 손실 0.72\n",
      "| 에폭 51 | 반복10/10 | 손실 0.72\n",
      "| 에폭 52 | 반복10/10 | 손실 0.72\n",
      "| 에폭 53 | 반복10/10 | 손실 0.74\n",
      "| 에폭 54 | 반복10/10 | 손실 0.74\n",
      "| 에폭 55 | 반복10/10 | 손실 0.72\n",
      "| 에폭 56 | 반복10/10 | 손실 0.72\n",
      "| 에폭 57 | 반복10/10 | 손실 0.71\n",
      "| 에폭 58 | 반복10/10 | 손실 0.70\n",
      "| 에폭 59 | 반복10/10 | 손실 0.72\n",
      "| 에폭 60 | 반복10/10 | 손실 0.70\n",
      "| 에폭 61 | 반복10/10 | 손실 0.71\n",
      "| 에폭 62 | 반복10/10 | 손실 0.72\n",
      "| 에폭 63 | 반복10/10 | 손실 0.70\n",
      "| 에폭 64 | 반복10/10 | 손실 0.71\n",
      "| 에폭 65 | 반복10/10 | 손실 0.73\n",
      "| 에폭 66 | 반복10/10 | 손실 0.70\n",
      "| 에폭 67 | 반복10/10 | 손실 0.71\n",
      "| 에폭 68 | 반복10/10 | 손실 0.69\n",
      "| 에폭 69 | 반복10/10 | 손실 0.70\n",
      "| 에폭 70 | 반복10/10 | 손실 0.71\n",
      "| 에폭 71 | 반복10/10 | 손실 0.68\n",
      "| 에폭 72 | 반복10/10 | 손실 0.69\n",
      "| 에폭 73 | 반복10/10 | 손실 0.67\n",
      "| 에폭 74 | 반복10/10 | 손실 0.68\n",
      "| 에폭 75 | 반복10/10 | 손실 0.67\n",
      "| 에폭 76 | 반복10/10 | 손실 0.66\n",
      "| 에폭 77 | 반복10/10 | 손실 0.69\n",
      "| 에폭 78 | 반복10/10 | 손실 0.64\n",
      "| 에폭 79 | 반복10/10 | 손실 0.68\n",
      "| 에폭 80 | 반복10/10 | 손실 0.64\n",
      "| 에폭 81 | 반복10/10 | 손실 0.64\n",
      "| 에폭 82 | 반복10/10 | 손실 0.66\n",
      "| 에폭 83 | 반복10/10 | 손실 0.62\n",
      "| 에폭 84 | 반복10/10 | 손실 0.62\n",
      "| 에폭 85 | 반복10/10 | 손실 0.61\n",
      "| 에폭 86 | 반복10/10 | 손실 0.60"
     ]
    },
    {
     "name": "stderr",
     "output_type": "stream",
     "text": [
      " 42%|████████████████████████████████▉                                              | 125/300 [00:00<00:00, 233.95it/s]"
     ]
    },
    {
     "name": "stdout",
     "output_type": "stream",
     "text": [
      "\n",
      "| 에폭 87 | 반복10/10 | 손실 0.60\n",
      "| 에폭 88 | 반복10/10 | 손실 0.61\n",
      "| 에폭 89 | 반복10/10 | 손실 0.59\n",
      "| 에폭 90 | 반복10/10 | 손실 0.58\n",
      "| 에폭 91 | 반복10/10 | 손실 0.56\n",
      "| 에폭 92 | 반복10/10 | 손실 0.56\n",
      "| 에폭 93 | 반복10/10 | 손실 0.54\n",
      "| 에폭 94 | 반복10/10 | 손실 0.53\n",
      "| 에폭 95 | 반복10/10 | 손실 0.53\n",
      "| 에폭 96 | 반복10/10 | 손실 0.52\n",
      "| 에폭 97 | 반복10/10 | 손실 0.51\n",
      "| 에폭 98 | 반복10/10 | 손실 0.50\n",
      "| 에폭 99 | 반복10/10 | 손실 0.48\n",
      "| 에폭 100 | 반복10/10 | 손실 0.48\n",
      "| 에폭 101 | 반복10/10 | 손실 0.46\n",
      "| 에폭 102 | 반복10/10 | 손실 0.45\n",
      "| 에폭 103 | 반복10/10 | 손실 0.45\n",
      "| 에폭 104 | 반복10/10 | 손실 0.44\n",
      "| 에폭 105 | 반복10/10 | 손실 0.44\n",
      "| 에폭 106 | 반복10/10 | 손실 0.41\n",
      "| 에폭 107 | 반복10/10 | 손실 0.40\n",
      "| 에폭 108 | 반복10/10 | 손실 0.41\n",
      "| 에폭 109 | 반복10/10 | 손실 0.40\n",
      "| 에폭 110 | 반복10/10 | 손실 0.40\n",
      "| 에폭 111 | 반복10/10 | 손실 0.38\n",
      "| 에폭 112 | 반복10/10 | 손실 0.38\n",
      "| 에폭 113 | 반복10/10 | 손실 0.36\n",
      "| 에폭 114 | 반복10/10 | 손실 0.37\n",
      "| 에폭 115 | 반복10/10 | 손실 0.35\n",
      "| 에폭 116 | 반복10/10 | 손실 0.34\n",
      "| 에폭 117 | 반복10/10 | 손실 0.34\n",
      "| 에폭 118 | 반복10/10 | 손실 0.34\n",
      "| 에폭 119 | 반복10/10 | 손실 0.33\n",
      "| 에폭 120 | 반복10/10 | 손실 0.34\n",
      "| 에폭 121 | 반복10/10 | 손실 0.32\n",
      "| 에폭 122 | 반복10/10 | 손실 0.32\n",
      "| 에폭 123 | 반복10/10 | 손실 0.31\n",
      "| 에폭 124 | 반복10/10 | 손실 0.31\n",
      "| 에폭 125 | 반복10/10 | 손실 0.30\n",
      "| 에폭 126 | 반복10/10 | 손실 0.30\n",
      "| 에폭 127 | 반복10/10 | 손실 0.28\n",
      "| 에폭 128 | 반복10/10 | 손실 0.28\n",
      "| 에폭 129 | 반복10/10 | 손실 0.28\n",
      "| 에폭 130 | 반복10/10 | 손실 0.28\n",
      "| 에폭 131 | 반복10/10 | 손실 0.27\n",
      "| 에폭 132 | 반복10/10 | 손실 0.27\n",
      "| 에폭 133 | 반복10/10 | 손실 0.27\n",
      "| 에폭 134 | 반복10/10 | 손실 0.27\n",
      "| 에폭 135 | 반복10/10 | 손실 0.27\n",
      "| 에폭 136 | 반복10/10 | 손실 0.26\n",
      "| 에폭 137 | 반복10/10 | 손실 0.26\n",
      "| 에폭 138 | 반복10/10 | 손실 0.26\n",
      "| 에폭 139 | 반복10/10 | 손실 0.25"
     ]
    },
    {
     "name": "stderr",
     "output_type": "stream",
     "text": [
      " 65%|███████████████████████████████████████████████████▌                           | 196/300 [00:00<00:00, 280.63it/s]"
     ]
    },
    {
     "name": "stdout",
     "output_type": "stream",
     "text": [
      "\n",
      "| 에폭 140 | 반복10/10 | 손실 0.24\n",
      "| 에폭 141 | 반복10/10 | 손실 0.24\n",
      "| 에폭 142 | 반복10/10 | 손실 0.25\n",
      "| 에폭 143 | 반복10/10 | 손실 0.24\n",
      "| 에폭 144 | 반복10/10 | 손실 0.24\n",
      "| 에폭 145 | 반복10/10 | 손실 0.23\n",
      "| 에폭 146 | 반복10/10 | 손실 0.24\n",
      "| 에폭 147 | 반복10/10 | 손실 0.23\n",
      "| 에폭 148 | 반복10/10 | 손실 0.23\n",
      "| 에폭 149 | 반복10/10 | 손실 0.22\n",
      "| 에폭 150 | 반복10/10 | 손실 0.22\n",
      "| 에폭 151 | 반복10/10 | 손실 0.22\n",
      "| 에폭 152 | 반복10/10 | 손실 0.22\n",
      "| 에폭 153 | 반복10/10 | 손실 0.22\n",
      "| 에폭 154 | 반복10/10 | 손실 0.22\n",
      "| 에폭 155 | 반복10/10 | 손실 0.22\n",
      "| 에폭 156 | 반복10/10 | 손실 0.21\n",
      "| 에폭 157 | 반복10/10 | 손실 0.21\n",
      "| 에폭 158 | 반복10/10 | 손실 0.20\n",
      "| 에폭 159 | 반복10/10 | 손실 0.21\n",
      "| 에폭 160 | 반복10/10 | 손실 0.20\n",
      "| 에폭 161 | 반복10/10 | 손실 0.20\n",
      "| 에폭 162 | 반복10/10 | 손실 0.20\n",
      "| 에폭 163 | 반복10/10 | 손실 0.21\n",
      "| 에폭 164 | 반복10/10 | 손실 0.20\n",
      "| 에폭 165 | 반복10/10 | 손실 0.20\n",
      "| 에폭 166 | 반복10/10 | 손실 0.19\n",
      "| 에폭 167 | 반복10/10 | 손실 0.19\n",
      "| 에폭 168 | 반복10/10 | 손실 0.19\n",
      "| 에폭 169 | 반복10/10 | 손실 0.19\n",
      "| 에폭 170 | 반복10/10 | 손실 0.19\n",
      "| 에폭 171 | 반복10/10 | 손실 0.19\n",
      "| 에폭 172 | 반복10/10 | 손실 0.18\n",
      "| 에폭 173 | 반복10/10 | 손실 0.18\n",
      "| 에폭 174 | 반복10/10 | 손실 0.18\n",
      "| 에폭 175 | 반복10/10 | 손실 0.18\n",
      "| 에폭 176 | 반복10/10 | 손실 0.18\n",
      "| 에폭 177 | 반복10/10 | 손실 0.18\n",
      "| 에폭 178 | 반복10/10 | 손실 0.18\n",
      "| 에폭 179 | 반복10/10 | 손실 0.17\n",
      "| 에폭 180 | 반복10/10 | 손실 0.17\n",
      "| 에폭 181 | 반복10/10 | 손실 0.18\n",
      "| 에폭 182 | 반복10/10 | 손실 0.17\n",
      "| 에폭 183 | 반복10/10 | 손실 0.18\n",
      "| 에폭 184 | 반복10/10 | 손실 0.17\n",
      "| 에폭 185 | 반복10/10 | 손실 0.17\n",
      "| 에폭 186 | 반복10/10 | 손실 0.18\n",
      "| 에폭 187 | 반복10/10 | 손실 0.17\n",
      "| 에폭 188 | 반복10/10 | 손실 0.17\n",
      "| 에폭 189 | 반복10/10 | 손실 0.17\n",
      "| 에폭 190 | 반복10/10 | 손실 0.17\n",
      "| 에폭 191 | 반복10/10 | 손실 0.16\n",
      "| 에폭 192 | 반복10/10 | 손실 0.17\n",
      "| 에폭 193 | 반복10/10 | 손실 0.16\n",
      "| 에폭 194 | 반복10/10 | 손실 0.16\n",
      "| 에폭 195 | 반복10/10 | 손실 0.16\n",
      "| 에폭 196 | 반복10/10 | 손실 0.16\n",
      "| 에폭 197 | 반복10/10 | 손실 0.16\n",
      "| 에폭 198 | 반복10/10 | 손실 0.15\n",
      "| 에폭 199 | 반복10/10 | 손실 0.16\n",
      "| 에폭 200 | 반복10/10 | 손실 0.16\n",
      "| 에폭 201 | 반복10/10 | 손실 0.15\n",
      "| 에폭 202 | 반복10/10 | 손실 0.16\n",
      "| 에폭 203 | 반복10/10 | 손실 0.16\n",
      "| 에폭 204 | 반복10/10 | 손실 0.15\n",
      "| 에폭 205 | 반복10/10 | 손실 0.16\n",
      "| 에폭 206 | 반복10/10 | 손실 0.15\n",
      "| 에폭 207 | 반복10/10 | 손실 0.15\n",
      "| 에폭 208 | 반복10/10 | 손실 0.15\n",
      "| 에폭 209 | 반복10/10 | 손실 0.15\n",
      "| 에폭 210 | 반복10/10 | 손실 0.15\n",
      "| 에폭 211 | 반복10/10 | 손실 0.15\n",
      "| 에폭 212 | 반복10/10 | 손실 0.15\n",
      "| 에폭 213 | 반복10/10 | 손실 0.15\n",
      "| 에폭 214 | 반복10/10 | 손실 0.15\n",
      "| 에폭 215 | 반복10/10 | 손실 0.15"
     ]
    },
    {
     "name": "stderr",
     "output_type": "stream",
     "text": [
      " 95%|███████████████████████████████████████████████████████████████████████████    | 285/300 [00:00<00:00, 345.67it/s]"
     ]
    },
    {
     "name": "stdout",
     "output_type": "stream",
     "text": [
      "\n",
      "| 에폭 216 | 반복10/10 | 손실 0.14\n",
      "| 에폭 217 | 반복10/10 | 손실 0.14\n",
      "| 에폭 218 | 반복10/10 | 손실 0.15\n",
      "| 에폭 219 | 반복10/10 | 손실 0.14\n",
      "| 에폭 220 | 반복10/10 | 손실 0.14\n",
      "| 에폭 221 | 반복10/10 | 손실 0.14\n",
      "| 에폭 222 | 반복10/10 | 손실 0.14\n",
      "| 에폭 223 | 반복10/10 | 손실 0.14\n",
      "| 에폭 224 | 반복10/10 | 손실 0.14\n",
      "| 에폭 225 | 반복10/10 | 손실 0.14\n",
      "| 에폭 226 | 반복10/10 | 손실 0.14\n",
      "| 에폭 227 | 반복10/10 | 손실 0.14\n",
      "| 에폭 228 | 반복10/10 | 손실 0.14\n",
      "| 에폭 229 | 반복10/10 | 손실 0.13\n",
      "| 에폭 230 | 반복10/10 | 손실 0.14\n",
      "| 에폭 231 | 반복10/10 | 손실 0.13\n",
      "| 에폭 232 | 반복10/10 | 손실 0.14\n",
      "| 에폭 233 | 반복10/10 | 손실 0.13\n",
      "| 에폭 234 | 반복10/10 | 손실 0.13\n",
      "| 에폭 235 | 반복10/10 | 손실 0.13\n",
      "| 에폭 236 | 반복10/10 | 손실 0.13\n",
      "| 에폭 237 | 반복10/10 | 손실 0.14\n",
      "| 에폭 238 | 반복10/10 | 손실 0.13\n",
      "| 에폭 239 | 반복10/10 | 손실 0.13\n",
      "| 에폭 240 | 반복10/10 | 손실 0.14\n",
      "| 에폭 241 | 반복10/10 | 손실 0.13\n",
      "| 에폭 242 | 반복10/10 | 손실 0.13\n",
      "| 에폭 243 | 반복10/10 | 손실 0.13\n",
      "| 에폭 244 | 반복10/10 | 손실 0.13\n",
      "| 에폭 245 | 반복10/10 | 손실 0.13\n",
      "| 에폭 246 | 반복10/10 | 손실 0.13\n",
      "| 에폭 247 | 반복10/10 | 손실 0.13\n",
      "| 에폭 248 | 반복10/10 | 손실 0.13\n",
      "| 에폭 249 | 반복10/10 | 손실 0.13\n",
      "| 에폭 250 | 반복10/10 | 손실 0.13\n",
      "| 에폭 251 | 반복10/10 | 손실 0.13\n",
      "| 에폭 252 | 반복10/10 | 손실 0.12\n",
      "| 에폭 253 | 반복10/10 | 손실 0.12\n",
      "| 에폭 254 | 반복10/10 | 손실 0.12\n",
      "| 에폭 255 | 반복10/10 | 손실 0.12\n",
      "| 에폭 256 | 반복10/10 | 손실 0.12\n",
      "| 에폭 257 | 반복10/10 | 손실 0.12\n",
      "| 에폭 258 | 반복10/10 | 손실 0.12\n",
      "| 에폭 259 | 반복10/10 | 손실 0.13\n",
      "| 에폭 260 | 반복10/10 | 손실 0.12\n",
      "| 에폭 261 | 반복10/10 | 손실 0.13\n",
      "| 에폭 262 | 반복10/10 | 손실 0.12\n",
      "| 에폭 263 | 반복10/10 | 손실 0.12\n",
      "| 에폭 264 | 반복10/10 | 손실 0.13\n",
      "| 에폭 265 | 반복10/10 | 손실 0.12\n",
      "| 에폭 266 | 반복10/10 | 손실 0.12\n",
      "| 에폭 267 | 반복10/10 | 손실 0.12\n",
      "| 에폭 268 | 반복10/10 | 손실 0.12\n",
      "| 에폭 269 | 반복10/10 | 손실 0.11\n",
      "| 에폭 270 | 반복10/10 | 손실 0.12\n",
      "| 에폭 271 | 반복10/10 | 손실 0.12\n",
      "| 에폭 272 | 반복10/10 | 손실 0.12\n",
      "| 에폭 273 | 반복10/10 | 손실 0.12\n",
      "| 에폭 274 | 반복10/10 | 손실 0.12\n",
      "| 에폭 275 | 반복10/10 | 손실 0.11\n",
      "| 에폭 276 | 반복10/10 | 손실 0.12\n",
      "| 에폭 277 | 반복10/10 | 손실 0.12\n",
      "| 에폭 278 | 반복10/10 | 손실 0.11\n",
      "| 에폭 279 | 반복10/10 | 손실 0.11\n",
      "| 에폭 280 | 반복10/10 | 손실 0.11\n",
      "| 에폭 281 | 반복10/10 | 손실 0.11\n",
      "| 에폭 282 | 반복10/10 | 손실 0.12\n",
      "| 에폭 283 | 반복10/10 | 손실 0.11\n",
      "| 에폭 284 | 반복10/10 | 손실 0.11\n",
      "| 에폭 285 | 반복10/10 | 손실 0.11\n",
      "| 에폭 286 | 반복10/10 | 손실 0.11\n",
      "| 에폭 287 | 반복10/10 | 손실 0.11\n",
      "| 에폭 288 | 반복10/10 | 손실 0.12\n",
      "| 에폭 289 | 반복10/10 | 손실 0.11\n",
      "| 에폭 290 | 반복10/10 | 손실 0.11\n",
      "| 에폭 291 | 반복10/10 | 손실 0.11\n",
      "| 에폭 292 | 반복10/10 | 손실 0.11\n",
      "| 에폭 293 | 반복10/10 | 손실 0.11\n",
      "| 에폭 294 | 반복10/10 | 손실 0.11\n",
      "| 에폭 295 | 반복10/10 | 손실 0.12\n",
      "| 에폭 296 | 반복10/10 | 손실 0.11\n",
      "| 에폭 297 | 반복10/10 | 손실 0.12\n",
      "| 에폭 298 | 반복10/10 | 손실 0.11\n",
      "| 에폭 299 | 반복10/10 | 손실 0.11\n"
     ]
    },
    {
     "name": "stderr",
     "output_type": "stream",
     "text": [
      "100%|███████████████████████████████████████████████████████████████████████████████| 300/300 [00:00<00:00, 314.65it/s]\n"
     ]
    },
    {
     "name": "stdout",
     "output_type": "stream",
     "text": [
      "| 에폭 300 | 반복10/10 | 손실 0.11\n"
     ]
    },
    {
     "data": {
      "image/png": "[encoded data removed]",
      "text/plain": [
       "<Figure size 432x288 with 1 Axes>"
      ]
     },
     "metadata": {
      "needs_background": "light"
     },
     "output_type": "display_data"
    },
    {
     "data": {
      "image/png": "[encoded data removed]",
      "text/plain": [
       "<Figure size 432x288 with 1 Axes>"
      ]
     },
     "metadata": {
      "needs_background": "light"
     },
     "output_type": "display_data"
    }
   ],
   "source": [
    "import sys\n",
    "sys.path.append('..')\n",
    "import numpy as np\n",
    "import matplotlib\n",
    "import matplotlib.pyplot as plt\n",
    "from tqdm import tqdm  # pip install tqdm\n",
    "from common.optimizer import SGD\n",
    "from DLFromScratch2.dataset import spiral\n",
    "from two_layer_net import TwoLayerNet\n",
    "\n",
    "matplotlib.rc('font', family='Malgun Gothic')  # linux\n",
    "# matplotlib.rc('font', family='AppleGothic')  # Mac\n",
    "\n",
    "# 1. 하이퍼파라미터 설정\n",
    "max_epoch = 300\n",
    "batch_size = 30\n",
    "hidden_size = 10\n",
    "learning_rate = 1.0\n",
    "\n",
    "# 2. 데이터 읽기, 모델과 옵티마이저 생성\n",
    "x, t = spiral.load_data()\n",
    "model = TwoLayerNet(input_size=2,\n",
    "                    hidden_size=hidden_size,\n",
    "                    output_size=3)\n",
    "optimizer = SGD(lr=learning_rate)\n",
    "\n",
    "# 학습에 사용하는 변수\n",
    "data_size = len(x)\n",
    "max_iters = data_size // batch_size\n",
    "total_loss = 0\n",
    "loss_count = 0\n",
    "loss_list = []\n",
    "\n",
    "for epoch in tqdm(range(max_epoch)):\n",
    "    # 3. 데이터 셔플링\n",
    "    idx = np.random.permutation(data_size)\n",
    "    x = x[idx]\n",
    "    t = t[idx]\n",
    "    \n",
    "    for iters in range(max_iters):\n",
    "        batch_x = x[iters*batch_size:(iters+1)*batch_size]\n",
    "        batch_t = t[iters*batch_size:(iters+1)*batch_size]\n",
    "        \n",
    "        # 기울기를 구해 매개변수 갱신\n",
    "        loss = model.forward(batch_x, batch_t)\n",
    "        model.backward()\n",
    "        optimizer.update(model.params, model.grads)\n",
    "        \n",
    "        total_loss += loss\n",
    "        loss_count += 1\n",
    "        \n",
    "        # 정기적으로 학습 경과 출력\n",
    "        if (iters+1) % 10 == 0:\n",
    "            avg_loss = total_loss / loss_count\n",
    "            print(f'| 에폭 {epoch+1} | 반복{iters+1}/{max_iters} | 손실 {avg_loss:.2f}')\n",
    "            loss_list.append(avg_loss)\n",
    "            total_loss, loss_count = 0, 0\n",
    "\n",
    "\n",
    "\n",
    "# 학습 결과 플롯\n",
    "plt.plot(np.arange(len(loss_list)), loss_list, label='train')\n",
    "plt.xlabel('반복 (x10)')\n",
    "plt.ylabel('손실')\n",
    "plt.show()\n",
    "\n",
    "# 경계 영역 플롯\n",
    "h = 0.001\n",
    "x_min, x_max = x[:, 0].min() - .1, x[:, 0].max() + .1\n",
    "y_min, y_max = x[:, 1].min() - .1, x[:, 1].max() + .1\n",
    "xx, yy = np.meshgrid(np.arange(x_min, x_max, h), np.arange(y_min, y_max, h))\n",
    "X = np.c_[xx.ravel(), yy.ravel()]\n",
    "score = model.predict(X)\n",
    "predict_cls = np.argmax(score, axis=1)\n",
    "Z = predict_cls.reshape(xx.shape)\n",
    "plt.contourf(xx, yy, Z)\n",
    "plt.axis('off')\n",
    "\n",
    "# 데이터점 플롯\n",
    "x, t = spiral.load_data()\n",
    "N = 100\n",
    "CLS_NUM = 3\n",
    "markers = ['o', 'x', '^']\n",
    "for i in range(CLS_NUM):\n",
    "    plt.scatter(x[i*N:(i+1)*N, 0], x[i*N:(i+1)*N, 1], s=40, marker=markers[i])\n",
    "plt.show()"
   ]
  },
  {
   "cell_type": "markdown",
   "id": "c8315462",
   "metadata": {},
   "source": [
    "## 4.4. Trainer 클래스"
   ]
  },
  {
   "cell_type": "code",
   "execution_count": 89,
   "id": "c6ee7a33",
   "metadata": {
    "ExecuteTime": {
     "end_time": "2023-07-02T13:12:49.590207Z",
     "start_time": "2023-07-02T13:12:49.564314Z"
    }
   },
   "outputs": [],
   "source": [
    "from common.optimizer import SGD\n",
    "from common.trainer import Trainer\n",
    "from two_layer_net import TwoLayerNet"
   ]
  },
  {
   "cell_type": "code",
   "execution_count": 91,
   "id": "891fbcb3",
   "metadata": {
    "ExecuteTime": {
     "end_time": "2023-07-02T13:16:11.635208Z",
     "start_time": "2023-07-02T13:16:10.514629Z"
    }
   },
   "outputs": [
    {
     "name": "stdout",
     "output_type": "stream",
     "text": [
      "| 에폭 1 |  반복 1 / 9 | 시간 0[s] | 손실 1.10\n",
      "| 에폭 2 |  반복 1 / 9 | 시간 0[s] | 손실 1.18\n",
      "| 에폭 3 |  반복 1 / 9 | 시간 0[s] | 손실 1.17\n",
      "| 에폭 4 |  반복 1 / 9 | 시간 0[s] | 손실 1.17\n",
      "| 에폭 5 |  반복 1 / 9 | 시간 0[s] | 손실 1.13\n",
      "| 에폭 6 |  반복 1 / 9 | 시간 0[s] | 손실 1.11\n",
      "| 에폭 7 |  반복 1 / 9 | 시간 0[s] | 손실 1.12\n",
      "| 에폭 8 |  반복 1 / 9 | 시간 0[s] | 손실 1.14\n",
      "| 에폭 9 |  반복 1 / 9 | 시간 0[s] | 손실 1.12\n",
      "| 에폭 10 |  반복 1 / 9 | 시간 0[s] | 손실 1.11\n",
      "| 에폭 11 |  반복 1 / 9 | 시간 0[s] | 손실 1.12\n",
      "| 에폭 12 |  반복 1 / 9 | 시간 0[s] | 손실 1.11\n",
      "| 에폭 13 |  반복 1 / 9 | 시간 0[s] | 손실 1.12\n",
      "| 에폭 14 |  반복 1 / 9 | 시간 0[s] | 손실 1.13\n",
      "| 에폭 15 |  반복 1 / 9 | 시간 0[s] | 손실 1.08\n",
      "| 에폭 16 |  반복 1 / 9 | 시간 0[s] | 손실 1.11\n",
      "| 에폭 17 |  반복 1 / 9 | 시간 0[s] | 손실 1.07\n",
      "| 에폭 18 |  반복 1 / 9 | 시간 0[s] | 손실 1.02\n",
      "| 에폭 19 |  반복 1 / 9 | 시간 0[s] | 손실 1.00\n",
      "| 에폭 20 |  반복 1 / 9 | 시간 0[s] | 손실 0.98\n",
      "| 에폭 21 |  반복 1 / 9 | 시간 0[s] | 손실 0.91\n",
      "| 에폭 22 |  반복 1 / 9 | 시간 0[s] | 손실 0.90\n",
      "| 에폭 23 |  반복 1 / 9 | 시간 0[s] | 손실 0.86\n",
      "| 에폭 24 |  반복 1 / 9 | 시간 0[s] | 손실 0.85\n",
      "| 에폭 25 |  반복 1 / 9 | 시간 0[s] | 손실 0.82\n",
      "| 에폭 26 |  반복 1 / 9 | 시간 0[s] | 손실 0.83\n",
      "| 에폭 27 |  반복 1 / 9 | 시간 0[s] | 손실 0.80\n",
      "| 에폭 28 |  반복 1 / 9 | 시간 0[s] | 손실 0.77\n",
      "| 에폭 29 |  반복 1 / 9 | 시간 0[s] | 손실 0.79\n",
      "| 에폭 30 |  반복 1 / 9 | 시간 0[s] | 손실 0.76\n",
      "| 에폭 31 |  반복 1 / 9 | 시간 0[s] | 손실 0.76\n",
      "| 에폭 32 |  반복 1 / 9 | 시간 0[s] | 손실 0.74\n",
      "| 에폭 33 |  반복 1 / 9 | 시간 0[s] | 손실 0.80\n",
      "| 에폭 34 |  반복 1 / 9 | 시간 0[s] | 손실 0.77\n",
      "| 에폭 35 |  반복 1 / 9 | 시간 0[s] | 손실 0.74\n",
      "| 에폭 36 |  반복 1 / 9 | 시간 0[s] | 손실 0.73\n",
      "| 에폭 37 |  반복 1 / 9 | 시간 0[s] | 손실 0.75\n",
      "| 에폭 38 |  반복 1 / 9 | 시간 0[s] | 손실 0.78\n",
      "| 에폭 39 |  반복 1 / 9 | 시간 0[s] | 손실 0.79\n",
      "| 에폭 40 |  반복 1 / 9 | 시간 0[s] | 손실 0.74\n",
      "| 에폭 41 |  반복 1 / 9 | 시간 0[s] | 손실 0.76\n",
      "| 에폭 42 |  반복 1 / 9 | 시간 0[s] | 손실 0.77\n",
      "| 에폭 43 |  반복 1 / 9 | 시간 0[s] | 손실 0.78\n",
      "| 에폭 44 |  반복 1 / 9 | 시간 0[s] | 손실 0.74\n",
      "| 에폭 45 |  반복 1 / 9 | 시간 0[s] | 손실 0.73\n",
      "| 에폭 46 |  반복 1 / 9 | 시간 0[s] | 손실 0.71\n",
      "| 에폭 47 |  반복 1 / 9 | 시간 0[s] | 손실 0.73\n",
      "| 에폭 48 |  반복 1 / 9 | 시간 0[s] | 손실 0.75\n",
      "| 에폭 49 |  반복 1 / 9 | 시간 0[s] | 손실 0.74\n",
      "| 에폭 50 |  반복 1 / 9 | 시간 0[s] | 손실 0.74\n",
      "| 에폭 51 |  반복 1 / 9 | 시간 0[s] | 손실 0.73\n",
      "| 에폭 52 |  반복 1 / 9 | 시간 0[s] | 손실 0.73\n",
      "| 에폭 53 |  반복 1 / 9 | 시간 0[s] | 손실 0.73\n",
      "| 에폭 54 |  반복 1 / 9 | 시간 0[s] | 손실 0.74\n",
      "| 에폭 55 |  반복 1 / 9 | 시간 0[s] | 손실 0.73\n",
      "| 에폭 56 |  반복 1 / 9 | 시간 0[s] | 손실 0.71\n",
      "| 에폭 57 |  반복 1 / 9 | 시간 0[s] | 손실 0.75\n",
      "| 에폭 58 |  반복 1 / 9 | 시간 0[s] | 손실 0.69\n",
      "| 에폭 59 |  반복 1 / 9 | 시간 0[s] | 손실 0.74\n",
      "| 에폭 60 |  반복 1 / 9 | 시간 0[s] | 손실 0.72\n",
      "| 에폭 61 |  반복 1 / 9 | 시간 0[s] | 손실 0.70\n",
      "| 에폭 62 |  반복 1 / 9 | 시간 0[s] | 손실 0.71\n",
      "| 에폭 63 |  반복 1 / 9 | 시간 0[s] | 손실 0.73\n",
      "| 에폭 64 |  반복 1 / 9 | 시간 0[s] | 손실 0.72\n",
      "| 에폭 65 |  반복 1 / 9 | 시간 0[s] | 손실 0.72\n",
      "| 에폭 66 |  반복 1 / 9 | 시간 0[s] | 손실 0.74\n",
      "| 에폭 67 |  반복 1 / 9 | 시간 0[s] | 손실 0.73\n",
      "| 에폭 68 |  반복 1 / 9 | 시간 0[s] | 손실 0.74\n",
      "| 에폭 69 |  반복 1 / 9 | 시간 0[s] | 손실 0.71\n",
      "| 에폭 70 |  반복 1 / 9 | 시간 0[s] | 손실 0.69\n",
      "| 에폭 71 |  반복 1 / 9 | 시간 0[s] | 손실 0.71\n",
      "| 에폭 72 |  반복 1 / 9 | 시간 0[s] | 손실 0.70\n",
      "| 에폭 73 |  반복 1 / 9 | 시간 0[s] | 손실 0.71\n",
      "| 에폭 74 |  반복 1 / 9 | 시간 0[s] | 손실 0.72\n",
      "| 에폭 75 |  반복 1 / 9 | 시간 0[s] | 손실 0.71\n",
      "| 에폭 76 |  반복 1 / 9 | 시간 0[s] | 손실 0.69\n",
      "| 에폭 77 |  반복 1 / 9 | 시간 0[s] | 손실 0.72\n",
      "| 에폭 78 |  반복 1 / 9 | 시간 0[s] | 손실 0.71\n",
      "| 에폭 79 |  반복 1 / 9 | 시간 0[s] | 손실 0.66\n",
      "| 에폭 80 |  반복 1 / 9 | 시간 0[s] | 손실 0.69\n",
      "| 에폭 81 |  반복 1 / 9 | 시간 0[s] | 손실 0.72\n",
      "| 에폭 82 |  반복 1 / 9 | 시간 0[s] | 손실 0.72\n",
      "| 에폭 83 |  반복 1 / 9 | 시간 0[s] | 손실 0.64\n",
      "| 에폭 84 |  반복 1 / 9 | 시간 0[s] | 손실 0.67\n",
      "| 에폭 85 |  반복 1 / 9 | 시간 0[s] | 손실 0.68\n",
      "| 에폭 86 |  반복 1 / 9 | 시간 0[s] | 손실 0.67\n",
      "| 에폭 87 |  반복 1 / 9 | 시간 0[s] | 손실 0.64\n",
      "| 에폭 88 |  반복 1 / 9 | 시간 0[s] | 손실 0.62\n",
      "| 에폭 89 |  반복 1 / 9 | 시간 0[s] | 손실 0.68\n",
      "| 에폭 90 |  반복 1 / 9 | 시간 0[s] | 손실 0.65\n",
      "| 에폭 91 |  반복 1 / 9 | 시간 0[s] | 손실 0.65\n",
      "| 에폭 92 |  반복 1 / 9 | 시간 0[s] | 손실 0.65\n",
      "| 에폭 93 |  반복 1 / 9 | 시간 0[s] | 손실 0.62\n",
      "| 에폭 94 |  반복 1 / 9 | 시간 0[s] | 손실 0.60\n",
      "| 에폭 95 |  반복 1 / 9 | 시간 0[s] | 손실 0.63\n",
      "| 에폭 96 |  반복 1 / 9 | 시간 0[s] | 손실 0.62\n",
      "| 에폭 97 |  반복 1 / 9 | 시간 0[s] | 손실 0.60\n",
      "| 에폭 98 |  반복 1 / 9 | 시간 0[s] | 손실 0.62\n",
      "| 에폭 99 |  반복 1 / 9 | 시간 0[s] | 손실 0.60\n",
      "| 에폭 100 |  반복 1 / 9 | 시간 0[s] | 손실 0.59\n",
      "| 에폭 101 |  반복 1 / 9 | 시간 0[s] | 손실 0.58\n",
      "| 에폭 102 |  반복 1 / 9 | 시간 0[s] | 손실 0.58\n",
      "| 에폭 103 |  반복 1 / 9 | 시간 0[s] | 손실 0.56\n",
      "| 에폭 104 |  반복 1 / 9 | 시간 0[s] | 손실 0.58\n",
      "| 에폭 105 |  반복 1 / 9 | 시간 0[s] | 손실 0.54\n",
      "| 에폭 106 |  반복 1 / 9 | 시간 0[s] | 손실 0.54\n",
      "| 에폭 107 |  반복 1 / 9 | 시간 0[s] | 손실 0.54\n",
      "| 에폭 108 |  반복 1 / 9 | 시간 0[s] | 손실 0.50\n",
      "| 에폭 109 |  반복 1 / 9 | 시간 0[s] | 손실 0.49\n",
      "| 에폭 110 |  반복 1 / 9 | 시간 0[s] | 손실 0.52\n",
      "| 에폭 111 |  반복 1 / 9 | 시간 0[s] | 손실 0.48\n",
      "| 에폭 112 |  반복 1 / 9 | 시간 0[s] | 손실 0.50\n",
      "| 에폭 113 |  반복 1 / 9 | 시간 0[s] | 손실 0.47\n",
      "| 에폭 114 |  반복 1 / 9 | 시간 0[s] | 손실 0.48\n",
      "| 에폭 115 |  반복 1 / 9 | 시간 0[s] | 손실 0.47\n",
      "| 에폭 116 |  반복 1 / 9 | 시간 0[s] | 손실 0.45\n",
      "| 에폭 117 |  반복 1 / 9 | 시간 0[s] | 손실 0.45\n",
      "| 에폭 118 |  반복 1 / 9 | 시간 0[s] | 손실 0.43\n",
      "| 에폭 119 |  반복 1 / 9 | 시간 0[s] | 손실 0.42\n",
      "| 에폭 120 |  반복 1 / 9 | 시간 0[s] | 손실 0.42\n",
      "| 에폭 121 |  반복 1 / 9 | 시간 0[s] | 손실 0.42\n",
      "| 에폭 122 |  반복 1 / 9 | 시간 0[s] | 손실 0.42\n",
      "| 에폭 123 |  반복 1 / 9 | 시간 0[s] | 손실 0.39\n",
      "| 에폭 124 |  반복 1 / 9 | 시간 0[s] | 손실 0.38\n",
      "| 에폭 125 |  반복 1 / 9 | 시간 0[s] | 손실 0.39\n",
      "| 에폭 126 |  반복 1 / 9 | 시간 0[s] | 손실 0.37\n",
      "| 에폭 127 |  반복 1 / 9 | 시간 0[s] | 손실 0.37\n",
      "| 에폭 128 |  반복 1 / 9 | 시간 0[s] | 손실 0.33\n",
      "| 에폭 129 |  반복 1 / 9 | 시간 0[s] | 손실 0.38\n",
      "| 에폭 130 |  반복 1 / 9 | 시간 0[s] | 손실 0.36\n",
      "| 에폭 131 |  반복 1 / 9 | 시간 0[s] | 손실 0.33\n",
      "| 에폭 132 |  반복 1 / 9 | 시간 0[s] | 손실 0.33\n",
      "| 에폭 133 |  반복 1 / 9 | 시간 0[s] | 손실 0.33\n",
      "| 에폭 134 |  반복 1 / 9 | 시간 0[s] | 손실 0.34\n",
      "| 에폭 135 |  반복 1 / 9 | 시간 0[s] | 손실 0.31\n",
      "| 에폭 136 |  반복 1 / 9 | 시간 0[s] | 손실 0.34\n",
      "| 에폭 137 |  반복 1 / 9 | 시간 0[s] | 손실 0.30\n",
      "| 에폭 138 |  반복 1 / 9 | 시간 0[s] | 손실 0.31\n",
      "| 에폭 139 |  반복 1 / 9 | 시간 0[s] | 손실 0.31\n",
      "| 에폭 140 |  반복 1 / 9 | 시간 0[s] | 손실 0.32\n",
      "| 에폭 141 |  반복 1 / 9 | 시간 0[s] | 손실 0.28\n",
      "| 에폭 142 |  반복 1 / 9 | 시간 0[s] | 손실 0.29\n",
      "| 에폭 143 |  반복 1 / 9 | 시간 0[s] | 손실 0.32\n",
      "| 에폭 144 |  반복 1 / 9 | 시간 0[s] | 손실 0.27\n",
      "| 에폭 145 |  반복 1 / 9 | 시간 0[s] | 손실 0.29\n",
      "| 에폭 146 |  반복 1 / 9 | 시간 0[s] | 손실 0.29\n",
      "| 에폭 147 |  반복 1 / 9 | 시간 0[s] | 손실 0.29\n",
      "| 에폭 148 |  반복 1 / 9 | 시간 0[s] | 손실 0.26\n",
      "| 에폭 149 |  반복 1 / 9 | 시간 0[s] | 손실 0.27\n",
      "| 에폭 150 |  반복 1 / 9 | 시간 0[s] | 손실 0.27\n",
      "| 에폭 151 |  반복 1 / 9 | 시간 0[s] | 손실 0.27\n",
      "| 에폭 152 |  반복 1 / 9 | 시간 0[s] | 손실 0.26\n",
      "| 에폭 153 |  반복 1 / 9 | 시간 0[s] | 손실 0.27\n",
      "| 에폭 154 |  반복 1 / 9 | 시간 0[s] | 손실 0.24\n",
      "| 에폭 155 |  반복 1 / 9 | 시간 0[s] | 손실 0.25\n",
      "| 에폭 156 |  반복 1 / 9 | 시간 0[s] | 손실 0.26\n",
      "| 에폭 157 |  반복 1 / 9 | 시간 0[s] | 손실 0.24\n",
      "| 에폭 158 |  반복 1 / 9 | 시간 0[s] | 손실 0.23\n",
      "| 에폭 159 |  반복 1 / 9 | 시간 0[s] | 손실 0.25\n",
      "| 에폭 160 |  반복 1 / 9 | 시간 0[s] | 손실 0.24\n",
      "| 에폭 161 |  반복 1 / 9 | 시간 0[s] | 손실 0.23\n",
      "| 에폭 162 |  반복 1 / 9 | 시간 0[s] | 손실 0.26\n",
      "| 에폭 163 |  반복 1 / 9 | 시간 0[s] | 손실 0.22\n",
      "| 에폭 164 |  반복 1 / 9 | 시간 0[s] | 손실 0.23\n",
      "| 에폭 165 |  반복 1 / 9 | 시간 0[s] | 손실 0.23\n",
      "| 에폭 166 |  반복 1 / 9 | 시간 0[s] | 손실 0.23\n",
      "| 에폭 167 |  반복 1 / 9 | 시간 0[s] | 손실 0.24\n",
      "| 에폭 168 |  반복 1 / 9 | 시간 0[s] | 손실 0.22\n",
      "| 에폭 169 |  반복 1 / 9 | 시간 0[s] | 손실 0.21\n",
      "| 에폭 170 |  반복 1 / 9 | 시간 0[s] | 손실 0.23\n",
      "| 에폭 171 |  반복 1 / 9 | 시간 0[s] | 손실 0.21\n",
      "| 에폭 172 |  반복 1 / 9 | 시간 0[s] | 손실 0.22\n",
      "| 에폭 173 |  반복 1 / 9 | 시간 0[s] | 손실 0.20\n",
      "| 에폭 174 |  반복 1 / 9 | 시간 0[s] | 손실 0.22\n",
      "| 에폭 175 |  반복 1 / 9 | 시간 0[s] | 손실 0.21\n",
      "| 에폭 176 |  반복 1 / 9 | 시간 0[s] | 손실 0.20\n",
      "| 에폭 177 |  반복 1 / 9 | 시간 0[s] | 손실 0.20\n",
      "| 에폭 178 |  반복 1 / 9 | 시간 0[s] | 손실 0.19\n",
      "| 에폭 179 |  반복 1 / 9 | 시간 0[s] | 손실 0.20\n",
      "| 에폭 180 |  반복 1 / 9 | 시간 0[s] | 손실 0.21\n",
      "| 에폭 181 |  반복 1 / 9 | 시간 0[s] | 손실 0.20\n",
      "| 에폭 182 |  반복 1 / 9 | 시간 0[s] | 손실 0.20\n",
      "| 에폭 183 |  반복 1 / 9 | 시간 0[s] | 손실 0.17\n",
      "| 에폭 184 |  반복 1 / 9 | 시간 0[s] | 손실 0.20\n",
      "| 에폭 185 |  반복 1 / 9 | 시간 0[s] | 손실 0.21\n",
      "| 에폭 186 |  반복 1 / 9 | 시간 0[s] | 손실 0.19\n",
      "| 에폭 187 |  반복 1 / 9 | 시간 0[s] | 손실 0.18\n",
      "| 에폭 188 |  반복 1 / 9 | 시간 0[s] | 손실 0.20\n",
      "| 에폭 189 |  반복 1 / 9 | 시간 0[s] | 손실 0.18\n",
      "| 에폭 190 |  반복 1 / 9 | 시간 0[s] | 손실 0.19\n",
      "| 에폭 191 |  반복 1 / 9 | 시간 0[s] | 손실 0.19\n",
      "| 에폭 192 |  반복 1 / 9 | 시간 0[s] | 손실 0.19\n",
      "| 에폭 193 |  반복 1 / 9 | 시간 0[s] | 손실 0.19\n",
      "| 에폭 194 |  반복 1 / 9 | 시간 0[s] | 손실 0.18\n",
      "| 에폭 195 |  반복 1 / 9 | 시간 0[s] | 손실 0.19\n",
      "| 에폭 196 |  반복 1 / 9 | 시간 0[s] | 손실 0.18\n",
      "| 에폭 197 |  반복 1 / 9 | 시간 0[s] | 손실 0.18\n",
      "| 에폭 198 |  반복 1 / 9 | 시간 0[s] | 손실 0.18\n",
      "| 에폭 199 |  반복 1 / 9 | 시간 0[s] | 손실 0.17\n",
      "| 에폭 200 |  반복 1 / 9 | 시간 0[s] | 손실 0.16\n",
      "| 에폭 201 |  반복 1 / 9 | 시간 0[s] | 손실 0.17\n",
      "| 에폭 202 |  반복 1 / 9 | 시간 0[s] | 손실 0.18\n",
      "| 에폭 203 |  반복 1 / 9 | 시간 0[s] | 손실 0.17\n",
      "| 에폭 204 |  반복 1 / 9 | 시간 0[s] | 손실 0.17\n",
      "| 에폭 205 |  반복 1 / 9 | 시간 0[s] | 손실 0.16\n",
      "| 에폭 206 |  반복 1 / 9 | 시간 0[s] | 손실 0.18\n",
      "| 에폭 207 |  반복 1 / 9 | 시간 0[s] | 손실 0.18\n",
      "| 에폭 208 |  반복 1 / 9 | 시간 0[s] | 손실 0.15\n",
      "| 에폭 209 |  반복 1 / 9 | 시간 0[s] | 손실 0.17\n",
      "| 에폭 210 |  반복 1 / 9 | 시간 0[s] | 손실 0.17\n",
      "| 에폭 211 |  반복 1 / 9 | 시간 0[s] | 손실 0.16\n",
      "| 에폭 212 |  반복 1 / 9 | 시간 0[s] | 손실 0.17\n",
      "| 에폭 213 |  반복 1 / 9 | 시간 0[s] | 손실 0.16\n",
      "| 에폭 214 |  반복 1 / 9 | 시간 0[s] | 손실 0.17\n",
      "| 에폭 215 |  반복 1 / 9 | 시간 0[s] | 손실 0.16\n",
      "| 에폭 216 |  반복 1 / 9 | 시간 0[s] | 손실 0.15\n",
      "| 에폭 217 |  반복 1 / 9 | 시간 0[s] | 손실 0.17\n",
      "| 에폭 218 |  반복 1 / 9 | 시간 0[s] | 손실 0.15\n",
      "| 에폭 219 |  반복 1 / 9 | 시간 0[s] | 손실 0.16\n",
      "| 에폭 220 |  반복 1 / 9 | 시간 0[s] | 손실 0.17\n",
      "| 에폭 221 |  반복 1 / 9 | 시간 0[s] | 손실 0.16\n",
      "| 에폭 222 |  반복 1 / 9 | 시간 0[s] | 손실 0.15\n",
      "| 에폭 223 |  반복 1 / 9 | 시간 0[s] | 손실 0.17\n",
      "| 에폭 224 |  반복 1 / 9 | 시간 0[s] | 손실 0.15\n",
      "| 에폭 225 |  반복 1 / 9 | 시간 0[s] | 손실 0.18\n",
      "| 에폭 226 |  반복 1 / 9 | 시간 0[s] | 손실 0.13\n",
      "| 에폭 227 |  반복 1 / 9 | 시간 0[s] | 손실 0.15\n"
     ]
    },
    {
     "name": "stdout",
     "output_type": "stream",
     "text": [
      "| 에폭 228 |  반복 1 / 9 | 시간 0[s] | 손실 0.16\n",
      "| 에폭 229 |  반복 1 / 9 | 시간 0[s] | 손실 0.16\n",
      "| 에폭 230 |  반복 1 / 9 | 시간 0[s] | 손실 0.14\n",
      "| 에폭 231 |  반복 1 / 9 | 시간 0[s] | 손실 0.15\n",
      "| 에폭 232 |  반복 1 / 9 | 시간 0[s] | 손실 0.14\n",
      "| 에폭 233 |  반복 1 / 9 | 시간 0[s] | 손실 0.15\n",
      "| 에폭 234 |  반복 1 / 9 | 시간 0[s] | 손실 0.14\n",
      "| 에폭 235 |  반복 1 / 9 | 시간 0[s] | 손실 0.15\n",
      "| 에폭 236 |  반복 1 / 9 | 시간 0[s] | 손실 0.14\n",
      "| 에폭 237 |  반복 1 / 9 | 시간 0[s] | 손실 0.14\n",
      "| 에폭 238 |  반복 1 / 9 | 시간 0[s] | 손실 0.14\n",
      "| 에폭 239 |  반복 1 / 9 | 시간 0[s] | 손실 0.15\n",
      "| 에폭 240 |  반복 1 / 9 | 시간 0[s] | 손실 0.14\n",
      "| 에폭 241 |  반복 1 / 9 | 시간 0[s] | 손실 0.15\n",
      "| 에폭 242 |  반복 1 / 9 | 시간 0[s] | 손실 0.14\n",
      "| 에폭 243 |  반복 1 / 9 | 시간 0[s] | 손실 0.14\n",
      "| 에폭 244 |  반복 1 / 9 | 시간 0[s] | 손실 0.16\n",
      "| 에폭 245 |  반복 1 / 9 | 시간 0[s] | 손실 0.14\n",
      "| 에폭 246 |  반복 1 / 9 | 시간 0[s] | 손실 0.14\n",
      "| 에폭 247 |  반복 1 / 9 | 시간 0[s] | 손실 0.14\n",
      "| 에폭 248 |  반복 1 / 9 | 시간 0[s] | 손실 0.13\n",
      "| 에폭 249 |  반복 1 / 9 | 시간 0[s] | 손실 0.14\n",
      "| 에폭 250 |  반복 1 / 9 | 시간 0[s] | 손실 0.13\n",
      "| 에폭 251 |  반복 1 / 9 | 시간 0[s] | 손실 0.14\n",
      "| 에폭 252 |  반복 1 / 9 | 시간 0[s] | 손실 0.14\n",
      "| 에폭 253 |  반복 1 / 9 | 시간 0[s] | 손실 0.13\n",
      "| 에폭 254 |  반복 1 / 9 | 시간 0[s] | 손실 0.13\n",
      "| 에폭 255 |  반복 1 / 9 | 시간 0[s] | 손실 0.15\n",
      "| 에폭 256 |  반복 1 / 9 | 시간 0[s] | 손실 0.14\n",
      "| 에폭 257 |  반복 1 / 9 | 시간 0[s] | 손실 0.13\n",
      "| 에폭 258 |  반복 1 / 9 | 시간 0[s] | 손실 0.13\n",
      "| 에폭 259 |  반복 1 / 9 | 시간 0[s] | 손실 0.14\n",
      "| 에폭 260 |  반복 1 / 9 | 시간 0[s] | 손실 0.14\n",
      "| 에폭 261 |  반복 1 / 9 | 시간 0[s] | 손실 0.12\n",
      "| 에폭 262 |  반복 1 / 9 | 시간 0[s] | 손실 0.14\n",
      "| 에폭 263 |  반복 1 / 9 | 시간 0[s] | 손실 0.14\n",
      "| 에폭 264 |  반복 1 / 9 | 시간 0[s] | 손실 0.13\n",
      "| 에폭 265 |  반복 1 / 9 | 시간 0[s] | 손실 0.14\n",
      "| 에폭 266 |  반복 1 / 9 | 시간 0[s] | 손실 0.12\n",
      "| 에폭 267 |  반복 1 / 9 | 시간 0[s] | 손실 0.14\n",
      "| 에폭 268 |  반복 1 / 9 | 시간 0[s] | 손실 0.12\n",
      "| 에폭 269 |  반복 1 / 9 | 시간 0[s] | 손실 0.14\n",
      "| 에폭 270 |  반복 1 / 9 | 시간 0[s] | 손실 0.12\n",
      "| 에폭 271 |  반복 1 / 9 | 시간 0[s] | 손실 0.13\n",
      "| 에폭 272 |  반복 1 / 9 | 시간 0[s] | 손실 0.13\n",
      "| 에폭 273 |  반복 1 / 9 | 시간 0[s] | 손실 0.13\n",
      "| 에폭 274 |  반복 1 / 9 | 시간 0[s] | 손실 0.13\n",
      "| 에폭 275 |  반복 1 / 9 | 시간 0[s] | 손실 0.12\n",
      "| 에폭 276 |  반복 1 / 9 | 시간 0[s] | 손실 0.14\n",
      "| 에폭 277 |  반복 1 / 9 | 시간 0[s] | 손실 0.12\n",
      "| 에폭 278 |  반복 1 / 9 | 시간 0[s] | 손실 0.14\n",
      "| 에폭 279 |  반복 1 / 9 | 시간 0[s] | 손실 0.13\n",
      "| 에폭 280 |  반복 1 / 9 | 시간 0[s] | 손실 0.11\n",
      "| 에폭 281 |  반복 1 / 9 | 시간 0[s] | 손실 0.14\n",
      "| 에폭 282 |  반복 1 / 9 | 시간 0[s] | 손실 0.12\n",
      "| 에폭 283 |  반복 1 / 9 | 시간 0[s] | 손실 0.13\n",
      "| 에폭 284 |  반복 1 / 9 | 시간 0[s] | 손실 0.11\n",
      "| 에폭 285 |  반복 1 / 9 | 시간 0[s] | 손실 0.12\n",
      "| 에폭 286 |  반복 1 / 9 | 시간 0[s] | 손실 0.13\n",
      "| 에폭 287 |  반복 1 / 9 | 시간 0[s] | 손실 0.11\n",
      "| 에폭 288 |  반복 1 / 9 | 시간 0[s] | 손실 0.13\n",
      "| 에폭 289 |  반복 1 / 9 | 시간 0[s] | 손실 0.13\n",
      "| 에폭 290 |  반복 1 / 9 | 시간 0[s] | 손실 0.12\n",
      "| 에폭 291 |  반복 1 / 9 | 시간 0[s] | 손실 0.12\n",
      "| 에폭 292 |  반복 1 / 9 | 시간 0[s] | 손실 0.12\n",
      "| 에폭 293 |  반복 1 / 9 | 시간 0[s] | 손실 0.12\n",
      "| 에폭 294 |  반복 1 / 9 | 시간 0[s] | 손실 0.12\n",
      "| 에폭 295 |  반복 1 / 9 | 시간 0[s] | 손실 0.12\n",
      "| 에폭 296 |  반복 1 / 9 | 시간 0[s] | 손실 0.12\n",
      "| 에폭 297 |  반복 1 / 9 | 시간 0[s] | 손실 0.13\n",
      "| 에폭 298 |  반복 1 / 9 | 시간 0[s] | 손실 0.11\n",
      "| 에폭 299 |  반복 1 / 9 | 시간 0[s] | 손실 0.12\n",
      "| 에폭 300 |  반복 1 / 9 | 시간 0[s] | 손실 0.12\n"
     ]
    },
    {
     "data": {
      "image/png": "[encoded data removed]",
      "text/plain": [
       "<Figure size 432x288 with 1 Axes>"
      ]
     },
     "metadata": {
      "needs_background": "light"
     },
     "output_type": "display_data"
    }
   ],
   "source": [
    "max_epoch = 300\n",
    "batch_size = 32\n",
    "hidden_size = 10\n",
    "learning_rate = 1.0\n",
    "\n",
    "x,t = spiral.load_data()\n",
    "model = TwoLayerNet(input_size = 2, hidden_size = hidden_size, output_size = 3)\n",
    "optimizer = SGD(lr = learning_rate)\n",
    "\n",
    "trainer = Trainer(model, optimizer)\n",
    "trainer.fit(x, t, max_epoch, batch_size, eval_interval = 10)\n",
    "trainer.plot()"
   ]
  },
  {
   "cell_type": "markdown",
   "id": "11b553f5",
   "metadata": {},
   "source": [
    "# 1.5. 계산 고속화"
   ]
  },
  {
   "cell_type": "code",
   "execution_count": 92,
   "id": "1c4aa5d8",
   "metadata": {
    "ExecuteTime": {
     "end_time": "2023-07-02T13:16:29.069941Z",
     "start_time": "2023-07-02T13:16:29.063892Z"
    }
   },
   "outputs": [],
   "source": [
    "a = np.random.randn(3)"
   ]
  },
  {
   "cell_type": "code",
   "execution_count": 96,
   "id": "c6cb45e4",
   "metadata": {
    "ExecuteTime": {
     "end_time": "2023-07-02T13:17:05.786115Z",
     "start_time": "2023-07-02T13:17:05.765171Z"
    }
   },
   "outputs": [
    {
     "data": {
      "text/plain": [
       "dtype('float32')"
      ]
     },
     "execution_count": 96,
     "metadata": {},
     "output_type": "execute_result"
    }
   ],
   "source": [
    "b = a.astype(np.float32)\n",
    "b.dtype"
   ]
  },
  {
   "cell_type": "code",
   "execution_count": 97,
   "id": "58378b79",
   "metadata": {
    "ExecuteTime": {
     "end_time": "2023-07-02T13:17:15.185340Z",
     "start_time": "2023-07-02T13:17:15.171696Z"
    }
   },
   "outputs": [
    {
     "data": {
      "text/plain": [
       "dtype('float32')"
      ]
     },
     "execution_count": 97,
     "metadata": {},
     "output_type": "execute_result"
    }
   ],
   "source": [
    "c = a.astype('f')\n",
    "c.dtype"
   ]
  }
 ],
 "metadata": {
  "hide_input": false,
  "kernelspec": {
   "display_name": "Python 3",
   "language": "python",
   "name": "python3"
  },
  "language_info": {
   "codemirror_mode": {
    "name": "ipython",
    "version": 3
   },
   "file_extension": ".py",
   "mimetype": "text/x-python",
   "name": "python",
   "nbconvert_exporter": "python",
   "pygments_lexer": "ipython3",
   "version": "3.8.3"
  },
  "varInspector": {
   "cols": {
    "lenName": 16,
    "lenType": 16,
    "lenVar": 40
   },
   "kernels_config": {
    "python": {
     "delete_cmd_postfix": "",
     "delete_cmd_prefix": "del ",
     "library": "var_list.py",
     "varRefreshCmd": "print(var_dic_list())"
    },
    "r": {
     "delete_cmd_postfix": ") ",
     "delete_cmd_prefix": "rm(",
     "library": "var_list.r",
     "varRefreshCmd": "cat(var_dic_list()) "
    }
   },
   "types_to_exclude": [
    "module",
    "function",
    "builtin_function_or_method",
    "instance",
    "_Feature"
   ],
   "window_display": false
  }
 },
 "nbformat": 4,
 "nbformat_minor": 5
}
